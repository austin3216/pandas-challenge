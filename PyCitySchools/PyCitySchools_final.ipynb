{
 "metadata": {
  "language_info": {
   "codemirror_mode": {
    "name": "ipython",
    "version": 3
   },
   "file_extension": ".py",
   "mimetype": "text/x-python",
   "name": "python",
   "nbconvert_exporter": "python",
   "pygments_lexer": "ipython3",
   "version": "3.8.5-final"
  },
  "orig_nbformat": 2,
  "kernelspec": {
   "name": "python385jvsc74a57bd0c3371879507128a1f32fcefe84596516d7fbdc8c5d1ce95910e49c97f88263a5",
   "display_name": "Python 3.8.5 64-bit ('base': conda)"
  }
 },
 "nbformat": 4,
 "nbformat_minor": 2,
 "cells": [
  {
   "cell_type": "code",
   "execution_count": null,
   "metadata": {},
   "outputs": [],
   "source": [
    "# Import modules\n",
    "import pandas as pd"
   ]
  },
  {
   "cell_type": "code",
   "execution_count": null,
   "metadata": {},
   "outputs": [],
   "source": [
    "# Load data files\n",
    "school_data_load = \"Resources/schools_complete.csv\"\n",
    "student_data_load = \"Resources/students_complete.csv\"\n",
    "\n",
    "# Read data files and store into Pandas DataFrames\n",
    "school_data_df = pd.read_csv(school_data_load)\n",
    "student_data_df = pd.read_csv(student_data_load)\n",
    "\n",
    "# Combine the data into a single dataset  \n",
    "school_data_all_df = pd.merge(student_data_df, school_data_df, how=\"left\", on=[\"school_name\", \"school_name\"])\n",
    "school_data_all_df"
   ]
  },
  {
   "cell_type": "code",
   "execution_count": null,
   "metadata": {},
   "outputs": [],
   "source": [
    "# get column names for easy reference\n",
    "school_data_all_df.columns"
   ]
  },
  {
   "cell_type": "code",
   "execution_count": null,
   "metadata": {},
   "outputs": [],
   "source": [
    "# DISTRICT SUMMARY\n",
    "\n",
    "# calculate total number of schools\n",
    "tot_schools = len(pd.unique(school_data_df['school_name']))\n",
    "tot_schools"
   ]
  },
  {
   "cell_type": "code",
   "execution_count": null,
   "metadata": {},
   "outputs": [],
   "source": [
    "# caluculate the total number of students\n",
    "tot_students_dist = student_data_df['Student ID'].count()\n",
    "tot_students_dist"
   ]
  },
  {
   "cell_type": "code",
   "execution_count": null,
   "metadata": {},
   "outputs": [],
   "source": [
    "# calculate total budget\n",
    "tot_budget_dist = school_data_df['budget'].sum()\n",
    "tot_budget_dist"
   ]
  },
  {
   "cell_type": "code",
   "execution_count": null,
   "metadata": {},
   "outputs": [],
   "source": [
    "# calculate average math score\n",
    "avg_math_dist = student_data_df['math_score'].mean()\n",
    "avg_math_dist"
   ]
  },
  {
   "cell_type": "code",
   "execution_count": null,
   "metadata": {},
   "outputs": [],
   "source": [
    "# caluclate average reading score\n",
    "avg_read_dist = student_data_df['reading_score'].mean()\n",
    "avg_read_dist"
   ]
  },
  {
   "cell_type": "code",
   "execution_count": null,
   "metadata": {},
   "outputs": [],
   "source": [
    "# calculate % passing math\n",
    "pass_math_dist = len(school_data_all_df.loc[school_data_all_df['math_score'] > 69]) / tot_students_dist * 100\n",
    "pass_math_dist"
   ]
  },
  {
   "cell_type": "code",
   "execution_count": null,
   "metadata": {},
   "outputs": [],
   "source": [
    "# calculate % passing reading\n",
    "pass_read_dist = len(school_data_all_df.loc[school_data_all_df['reading_score'] > 69]) / tot_students_dist * 100\n",
    "pass_read_dist"
   ]
  },
  {
   "cell_type": "code",
   "execution_count": null,
   "metadata": {},
   "outputs": [],
   "source": [
    "# calculate % passing both math and reading\n",
    "pass_mathread_dist = len(school_data_all_df.loc[(school_data_all_df['math_score'] > 69) & (\n",
    "    school_data_all_df['reading_score'] > 69)]) / tot_students_dist * 100\n",
    "\n",
    "pass_mathread_dist"
   ]
  },
  {
   "cell_type": "code",
   "execution_count": null,
   "metadata": {},
   "outputs": [],
   "source": [
    "# create District Summary DataFrame\n",
    "dist_summary_df = pd.DataFrame(\n",
    "    {\"Total # of Schools\": [tot_schools],\n",
    "     \"Total # of Students\": [tot_students_dist],\n",
    "     \"Total Budget\": [tot_budget_dist],\n",
    "     \"Average Math Score\": [avg_math_dist],\n",
    "     \"Average Reading Score\": [avg_read_dist],\n",
    "     \"% Passing Math\": [pass_math_dist],\n",
    "     \"% Passing Reading\": [pass_read_dist],\n",
    "     \"% Overall Passing\": [pass_mathread_dist]\n",
    "     }\n",
    ")\n",
    "\n",
    "# format District Summary columns\n",
    "dist_summary_df[\"Total # of Students\"] = dist_summary_df[\"Total # of Students\"].map(\"{:,}\".format)\n",
    "dist_summary_df[\"Total Budget\"] = dist_summary_df[\"Total Budget\"].map(\"${:,}\".format)\n",
    "dist_summary_df[\"Average Math Score\"] = dist_summary_df[\"Average Math Score\"].map(\"{:.0f}\".format)\n",
    "dist_summary_df[\"Average Reading Score\"] = dist_summary_df[\"Average Reading Score\"].map(\"{:.0f}\".format)\n",
    "dist_summary_df[\"% Passing Math\"] = dist_summary_df[\"% Passing Math\"].map(\"{:.1f}%\".format)\n",
    "dist_summary_df[\"% Passing Reading\"] = dist_summary_df[\"% Passing Reading\"].map(\"{:.1f}%\".format)\n",
    "dist_summary_df[\"% Overall Passing\"] = dist_summary_df[\"% Overall Passing\"].map(\"{:.1f}%\".format)\n",
    "\n",
    "print(\"DISTRICT SUMMARY\")\n",
    "dist_summary_df"
   ]
  },
  {
   "cell_type": "code",
   "execution_count": null,
   "metadata": {},
   "outputs": [],
   "source": [
    "# SCHOOL SUMMARY\n",
    "\n",
    "# get school type\n",
    "school_type = school_data_df.set_index(['school_name'])['type']\n",
    "school_type"
   ]
  },
  {
   "cell_type": "code",
   "execution_count": null,
   "metadata": {},
   "outputs": [],
   "source": [
    "# calculate total student count per school\n",
    "student_count = school_data_all_df['school_name'].value_counts()\n",
    "student_count"
   ]
  },
  {
   "cell_type": "code",
   "execution_count": null,
   "metadata": {},
   "outputs": [],
   "source": [
    "# calculate total budget per school\n",
    "school_budget = school_data_all_df.groupby(['school_name']).mean()['budget']\n",
    "school_budget"
   ]
  },
  {
   "cell_type": "code",
   "execution_count": null,
   "metadata": {},
   "outputs": [],
   "source": [
    "# calculate total budget per student per school\n",
    "student_budget = school_budget / student_count\n",
    "student_budget"
   ]
  },
  {
   "cell_type": "code",
   "execution_count": null,
   "metadata": {},
   "outputs": [],
   "source": [
    "# calculate average math score\n",
    "math_avg = school_data_all_df.groupby(['school_name']).mean()['math_score']\n",
    "math_avg"
   ]
  },
  {
   "cell_type": "code",
   "execution_count": null,
   "metadata": {},
   "outputs": [],
   "source": [
    "# calculate average reading score\n",
    "read_avg = school_data_all_df.groupby(['school_name']).mean()['reading_score']\n",
    "read_avg"
   ]
  },
  {
   "cell_type": "code",
   "execution_count": null,
   "metadata": {},
   "outputs": [],
   "source": [
    "# calculate % passing math\n",
    "\n",
    "# get count of students passing math\n",
    "pass_math_sch = school_data_all_df[(school_data_all_df['math_score'] > 69)]\n",
    "\n",
    "# group students passing math by school\n",
    "pass_math_sch = pass_math_sch.groupby(['school_name']).count()['student_name']\n",
    "\n",
    "# get % of students passing math\n",
    "pass_math_sch = pass_math_sch / student_count * 100\n",
    "pass_math_sch"
   ]
  },
  {
   "cell_type": "code",
   "execution_count": null,
   "metadata": {},
   "outputs": [],
   "source": [
    "# calculate % passing reading\n",
    "\n",
    "# get count of students passing reading\n",
    "pass_read_sch = school_data_all_df[(school_data_all_df['reading_score'] > 69)]\n",
    "\n",
    "# group students passing math by school\n",
    "pass_read_sch = pass_read_sch.groupby(['school_name']).count()['student_name']\n",
    "\n",
    "# get % of students passing math\n",
    "pass_read_sch = pass_read_sch / student_count * 100\n",
    "pass_read_sch"
   ]
  },
  {
   "cell_type": "code",
   "execution_count": null,
   "metadata": {},
   "outputs": [],
   "source": [
    "# calculate % passing math and reading (both)\n",
    "\n",
    "# get count of students passing both\n",
    "pass_both = school_data_all_df[(school_data_all_df['math_score'] > 69) & (school_data_all_df['reading_score'] > 69)]\n",
    "\n",
    "# group students passing both by school\n",
    "pass_both = pass_both.groupby(['school_name']).count()['student_name']\n",
    "\n",
    "# get % of students passing both\n",
    "pass_both = pass_both / student_count * 100\n",
    "pass_both"
   ]
  },
  {
   "cell_type": "code",
   "execution_count": null,
   "metadata": {},
   "outputs": [],
   "source": [
    "# create School Summary DataFrame\n",
    "school_summary_df = pd.DataFrame({\n",
    "    \"School Type\": school_type,\n",
    "    \"Total Students\": student_count,\n",
    "    \"Total School Budget\": school_budget,\n",
    "    \"Per Student Budget\": student_budget,\n",
    "    \"Average Math Score\": math_avg,\n",
    "    \"Average Reading Score\": read_avg,\n",
    "    \"% Passing Math\": pass_math_sch,\n",
    "    \"% Passing Reading\": pass_read_sch,\n",
    "    \"% Overall Passing\": pass_both\n",
    "    }\n",
    ")\n",
    "\n",
    "# format School Summary columns\n",
    "school_summary_df[\"Total Students\"] = school_summary_df[\"Total Students\"].map(\"{:,}\".format)\n",
    "school_summary_df[\"Total School Budget\"] = school_summary_df[\"Total School Budget\"].map(\"${:,.2f}\".format)\n",
    "school_summary_df[\"Per Student Budget\"] = school_summary_df[\"Per Student Budget\"].map(\"${:.2f}\".format)\n",
    "school_summary_df[\"Average Math Score\"] = school_summary_df[\"Average Math Score\"].map(\"{:.0f}\".format)\n",
    "school_summary_df[\"Average Reading Score\"] = school_summary_df[\"Average Reading Score\"].map(\"{:.0f}\".format)\n",
    "school_summary_df[\"% Passing Math\"] = school_summary_df[\"% Passing Math\"].map(\"{:.1f}%\".format)\n",
    "school_summary_df[\"% Passing Reading\"] = school_summary_df[\"% Passing Reading\"].map(\"{:.1f}%\".format)\n",
    "school_summary_df[\"% Overall Passing\"] = school_summary_df[\"% Overall Passing\"].map(\"{:.1f}%\".format)\n",
    "\n",
    "print(\"SCHOOL SUMMARY\")\n",
    "school_summary_df"
   ]
  },
  {
   "cell_type": "code",
   "execution_count": null,
   "metadata": {},
   "outputs": [],
   "source": [
    "# SORT AND DISPLAY Top 5 Performing Schools (By % Overall Passing)\n",
    "\n",
    "school_summary_df.sort_values(by=['% Overall Passing'], ascending=False, inplace=True)\n",
    "\n",
    "print('TOP PERFORMING SCHOOLS BY % OVERALL PASSING')\n",
    "school_summary_df.head(5)"
   ]
  },
  {
   "cell_type": "code",
   "execution_count": null,
   "metadata": {},
   "outputs": [],
   "source": [
    "# SORT AND DISPLAY Bottom 5 Performing Schools (By % Overall Passing)\n",
    "\n",
    "school_summary_df.sort_values(by=['% Overall Passing'], ascending=True, inplace=True)\n",
    "\n",
    "print('BOTTOM PERFORMING SCHOOLS BY % OVERALL PASSING')\n",
    "school_summary_df.head(5)"
   ]
  },
  {
   "cell_type": "code",
   "execution_count": null,
   "metadata": {},
   "outputs": [],
   "source": [
    "# MATH SCORES BY GRADE\n",
    "\n",
    "# get list of grade level values for reference\n",
    "school_data_all_df.grade.unique()"
   ]
  },
  {
   "cell_type": "code",
   "execution_count": null,
   "metadata": {},
   "outputs": [],
   "source": [
    "# create series for each grade using conditional statements\n",
    "ninth_grade = school_data_all_df[(school_data_all_df['grade'] == '9th')]\n",
    "tenth_grade = school_data_all_df[(school_data_all_df['grade'] == '10th')]\n",
    "eleventh_grade = school_data_all_df[(school_data_all_df['grade'] == '11th')]\n",
    "twelfth_grade = school_data_all_df[(school_data_all_df['grade'] == '12th')]\n",
    "\n",
    "# group each grade series by school and get avg math score\n",
    "ninth_grade_math = ninth_grade.groupby(['school_name']).mean()['math_score']\n",
    "tenth_grade_math = tenth_grade.groupby(['school_name']).mean()['math_score']\n",
    "eleventh_grade_math = eleventh_grade.groupby(['school_name']).mean()['math_score']\n",
    "twelfth_grade_math = twelfth_grade.groupby(['school_name']).mean()['math_score']\n",
    "\n",
    "# create Math Scores by Grade DataFrame\n",
    "math_scores_by_grade = pd.DataFrame({\n",
    "    \"9th\": ninth_grade_math,\n",
    "    \"10th\": tenth_grade_math,\n",
    "    \"11th\": eleventh_grade_math,\n",
    "    \"12th\": twelfth_grade_math\n",
    "    }\n",
    ")\n",
    "\n",
    "math_scores_by_grade.head()"
   ]
  },
  {
   "cell_type": "code",
   "execution_count": null,
   "metadata": {},
   "outputs": [],
   "source": [
    "# format Math Scores columns\n",
    "math_scores_by_grade[\"9th\"] = math_scores_by_grade[\"9th\"].map(\"{:.2f}\".format)\n",
    "math_scores_by_grade[\"10th\"] = math_scores_by_grade[\"10th\"].map(\"{:.2f}\".format)\n",
    "math_scores_by_grade[\"11th\"] = math_scores_by_grade[\"11th\"].map(\"{:.2f}\".format)\n",
    "math_scores_by_grade[\"12th\"] = math_scores_by_grade[\"12th\"].map(\"{:.2f}\".format)\n",
    "\n",
    "# remove Index title 'school_name'\n",
    "math_scores_by_grade.index.name = None\n",
    "\n",
    "print('MATH SCORES BY GRADE')\n",
    "math_scores_by_grade.head()"
   ]
  },
  {
   "cell_type": "code",
   "execution_count": null,
   "metadata": {},
   "outputs": [],
   "source": [
    "# READING SCORES BY GRADE\n",
    "\n",
    "# can use MATH SCORES BY GRADE series for each grade using conditional statements\n",
    "\n",
    "# group each grade series by school and get avg reading score\n",
    "ninth_grade_read = ninth_grade.groupby(['school_name']).mean()['reading_score']\n",
    "tenth_grade_read = tenth_grade.groupby(['school_name']).mean()['reading_score']\n",
    "eleventh_grade_read = eleventh_grade.groupby(['school_name']).mean()['reading_score']\n",
    "twelfth_grade_read = twelfth_grade.groupby(['school_name']).mean()['reading_score']\n",
    "\n",
    "# create Reading Scores by Grade DataFrame\n",
    "read_scores_by_grade = pd.DataFrame({\n",
    "    \"9th\": ninth_grade_read,\n",
    "    \"10th\": tenth_grade_read,\n",
    "    \"11th\": eleventh_grade_read,\n",
    "    \"12th\": twelfth_grade_read\n",
    "    }\n",
    ")\n",
    "\n",
    "read_scores_by_grade.head()"
   ]
  },
  {
   "cell_type": "code",
   "execution_count": null,
   "metadata": {},
   "outputs": [],
   "source": [
    "# format Reading Scores columns\n",
    "read_scores_by_grade[\"9th\"] = read_scores_by_grade[\"9th\"].map(\"{:.2f}\".format)\n",
    "read_scores_by_grade[\"10th\"] = read_scores_by_grade[\"10th\"].map(\"{:.2f}\".format)\n",
    "read_scores_by_grade[\"11th\"] = read_scores_by_grade[\"11th\"].map(\"{:.2f}\".format)\n",
    "read_scores_by_grade[\"12th\"] = read_scores_by_grade[\"12th\"].map(\"{:.2f}\".format)\n",
    "\n",
    "# remove Index title 'school_name'\n",
    "read_scores_by_grade.index.name = None\n",
    "\n",
    "print('READING SCORES BY GRADE')\n",
    "read_scores_by_grade.head()"
   ]
  },
  {
   "cell_type": "code",
   "execution_count": null,
   "metadata": {},
   "outputs": [],
   "source": [
    "# SCORES BY SCHOOL SPENDING\n",
    "\n",
    "# REF DataFrame --> school_summary_df\n",
    "# REF Budget/student --> student_budget = school_budget / student_count\n",
    "\n",
    "# create spending bins and names\n",
    "spending_bins = [0, 584, 629, 644, 680]\n",
    "bin_names = ['<$585', '$585-630', '$630-645', '$645-680']\n",
    "\n",
    "# add spending bins/groups to school_summary_df DataFrame\n",
    "school_summary_df['Spending Ranges (Per Student)'] = pd.cut(student_budget, spending_bins, labels=bin_names)\n",
    "school_summary_df"
   ]
  },
  {
   "cell_type": "code",
   "execution_count": null,
   "metadata": {},
   "outputs": [],
   "source": [
    "# group DataFrame by spending range and get math and read score averages, and % pass averages\n",
    "\n",
    "# assign the dtype to variables to calculate average/mean\n",
    "# --> learned this after repeated errors on run\n",
    "# --> found how to remove % on stack overflow\n",
    "school_summary_df['Average Math Score'] = school_summary_df['Average Math Score'].astype(int)\n",
    "school_summary_df['Average Reading Score'] = school_summary_df['Average Reading Score'].astype(int)\n",
    "school_summary_df['% Passing Math'] = school_summary_df['% Passing Math'].str.rstrip('%').astype(float)\n",
    "school_summary_df['% Passing Reading'] = school_summary_df['% Passing Reading'].str.rstrip('%').astype(float)\n",
    "school_summary_df['% Overall Passing'] = school_summary_df['% Overall Passing'].str.rstrip('%').astype(float)\n",
    "\n",
    "# group series by Spending Range and get averages of columns\n",
    "school_spend_math = school_summary_df.groupby(['Spending Ranges (Per Student)']).mean()['Average Math Score']\n",
    "school_spend_read = school_summary_df.groupby(['Spending Ranges (Per Student)']).mean()['Average Reading Score']\n",
    "school_spend_pass_math = school_summary_df.groupby(['Spending Ranges (Per Student)']).mean()['% Passing Math']\n",
    "school_spend_pass_read = school_summary_df.groupby(['Spending Ranges (Per Student)']).mean()['% Passing Reading']\n",
    "school_spend_pass_both = school_summary_df.groupby(['Spending Ranges (Per Student)']).mean()['% Overall Passing']\n",
    "\n",
    "# create the School Spending DataFrame\n",
    "school_spending_df = pd.DataFrame({\n",
    "    \"Average Math Score\": school_spend_math,\n",
    "    \"Average Reading Score\": school_spend_read,\n",
    "    \"% Passing Math\": school_spend_pass_math,\n",
    "    \"% Passing Reading\": school_spend_pass_read,\n",
    "    \"% Overall Passing\": school_spend_pass_both\n",
    "})\n",
    "\n",
    "school_spending_df"
   ]
  },
  {
   "cell_type": "code",
   "execution_count": null,
   "metadata": {},
   "outputs": [],
   "source": [
    "# format School Spending columns\n",
    "school_spending_df[\"Average Math Score\"] = school_spending_df[\"Average Math Score\"].map(\"{:.2f}\".format)\n",
    "school_spending_df[\"Average Reading Score\"] = school_spending_df[\"Average Reading Score\"].map(\"{:.2f}\".format)\n",
    "school_spending_df[\"% Passing Math\"] = school_spending_df[\"% Passing Math\"].map(\"{:.2f}%\".format)\n",
    "school_spending_df[\"% Passing Reading\"] = school_spending_df[\"% Passing Reading\"].map(\"{:.2f}%\".format)\n",
    "school_spending_df[\"% Overall Passing\"] = school_spending_df[\"% Overall Passing\"].map(\"{:.2f}%\".format)\n",
    "\n",
    "print('SCORES BY SCHOOL SPENDING')\n",
    "school_spending_df"
   ]
  },
  {
   "cell_type": "code",
   "execution_count": null,
   "metadata": {},
   "outputs": [],
   "source": [
    "# SCORES BY SCHOOL SIZE\n",
    "\n",
    "# REF DataFrame --> school_summary_df\n",
    "# REF Student count --> student_count = school_data_all_df['school_name'].value_counts() \n",
    "\n",
    "# create size bins and names\n",
    "size_bins = [0, 999, 1999, 5000]\n",
    "size_bin_names = ['Small (<1000)', 'Medium (1000-2000)', 'Large (2000-5000)']\n",
    "\n",
    "# add size bins/groups to the school_summary_df DataFrame\n",
    "school_summary_df['School Size'] = pd.cut(student_count, size_bins, labels=size_bin_names)\n",
    "school_summary_df"
   ]
  },
  {
   "cell_type": "code",
   "execution_count": null,
   "metadata": {},
   "outputs": [],
   "source": [
    "# group DataFrame by size range and get math and read score averages, and % pass averages\n",
    "\n",
    "# dtype for variables to calculate average/mean remains same as with SCORES BY SCHOOL SPENDING\n",
    "\n",
    "# group series by School Size and get averages of columns\n",
    "school_size_math = school_summary_df.groupby(['School Size']).mean()['Average Math Score']\n",
    "school_size_read = school_summary_df.groupby(['School Size']).mean()['Average Reading Score']\n",
    "school_size_pass_math = school_summary_df.groupby(['School Size']).mean()['% Passing Math']\n",
    "school_size_pass_read = school_summary_df.groupby(['School Size']).mean()['% Passing Reading']\n",
    "school_size_pass_both = school_summary_df.groupby(['School Size']).mean()['% Overall Passing']\n",
    "\n",
    "# create School Size DataFrame\n",
    "school_size_df = pd.DataFrame({\n",
    "    \"Average Math Score\": school_size_math,\n",
    "    \"Average Reading Score\": school_size_read,\n",
    "    \"% Passing Math\": school_size_pass_math,\n",
    "    \"% Passing Reading\": school_size_pass_read,\n",
    "    \"% Overall Passing\": school_size_pass_both\n",
    "})\n",
    "\n",
    "school_size_df"
   ]
  },
  {
   "cell_type": "code",
   "execution_count": null,
   "metadata": {},
   "outputs": [],
   "source": [
    "# format School Size columns\n",
    "school_size_df[\"Average Math Score\"] = school_size_df[\"Average Math Score\"].map(\"{:.2f}\".format)\n",
    "school_size_df[\"Average Reading Score\"] = school_size_df[\"Average Reading Score\"].map(\"{:.2f}\".format)\n",
    "school_size_df[\"% Passing Math\"] = school_size_df[\"% Passing Math\"].map(\"{:.2f}%\".format)\n",
    "school_size_df[\"% Passing Reading\"] = school_size_df[\"% Passing Reading\"].map(\"{:.2f}%\".format)\n",
    "school_size_df[\"% Overall Passing\"] = school_size_df[\"% Overall Passing\"].map(\"{:.2f}%\".format)\n",
    "\n",
    "print('SCORES BY SCHOOL SIZE')\n",
    "school_size_df"
   ]
  },
  {
   "cell_type": "code",
   "execution_count": null,
   "metadata": {},
   "outputs": [],
   "source": [
    "# SCORES BY SCHOOL TYPE\n",
    "\n",
    "# group series by School Type and get averages of columns\n",
    "school_type_math = school_summary_df.groupby(['School Type']).mean()['Average Math Score']\n",
    "school_type_read = school_summary_df.groupby(['School Type']).mean()['Average Reading Score']\n",
    "school_type_pass_math = school_summary_df.groupby(['School Type']).mean()['% Passing Math']\n",
    "school_type_pass_read = school_summary_df.groupby(['School Type']).mean()['% Passing Reading']\n",
    "school_type_pass_both = school_summary_df.groupby(['School Type']).mean()['% Overall Passing']\n",
    "\n",
    "# create School Type DataFrame\n",
    "school_type_df = pd.DataFrame({\n",
    "    \"Average Math Score\": school_type_math,\n",
    "    \"Average Reading Score\": school_type_read,\n",
    "    \"% Passing Math\": school_type_pass_math,\n",
    "    \"% Passing Reading\": school_type_pass_read,\n",
    "    \"% Overall Passing\": school_type_pass_both\n",
    "})\n",
    "\n",
    "school_type_df"
   ]
  },
  {
   "cell_type": "code",
   "execution_count": null,
   "metadata": {},
   "outputs": [],
   "source": [
    "# format School Type columns\n",
    "school_type_df[\"Average Math Score\"] = school_type_df[\"Average Math Score\"].map(\"{:.2f}\".format)\n",
    "school_type_df[\"Average Reading Score\"] = school_type_df[\"Average Reading Score\"].map(\"{:.2f}\".format)\n",
    "school_type_df[\"% Passing Math\"] = school_type_df[\"% Passing Math\"].map(\"{:.2f}%\".format)\n",
    "school_type_df[\"% Passing Reading\"] = school_type_df[\"% Passing Reading\"].map(\"{:.2f}%\".format)\n",
    "school_type_df[\"% Overall Passing\"] = school_type_df[\"% Overall Passing\"].map(\"{:.2f}%\".format)\n",
    "\n",
    "print('SCORES BY SCHOOL TYPE')\n",
    "school_type_df"
   ]
  }
 ]
}