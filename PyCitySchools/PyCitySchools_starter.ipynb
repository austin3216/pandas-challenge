{
 "cells": [
  {
   "cell_type": "code",
   "execution_count": 248,
   "metadata": {},
   "outputs": [
    {
     "output_type": "execute_result",
     "data": {
      "text/plain": [
       "       Student ID       student_name gender grade         school_name  \\\n",
       "0               0       Paul Bradley      M   9th   Huang High School   \n",
       "1               1       Victor Smith      M  12th   Huang High School   \n",
       "2               2    Kevin Rodriguez      M  12th   Huang High School   \n",
       "3               3  Dr. Richard Scott      M  12th   Huang High School   \n",
       "4               4         Bonnie Ray      F   9th   Huang High School   \n",
       "...           ...                ...    ...   ...                 ...   \n",
       "39165       39165       Donna Howard      F  12th  Thomas High School   \n",
       "39166       39166          Dawn Bell      F  10th  Thomas High School   \n",
       "39167       39167     Rebecca Tanner      F   9th  Thomas High School   \n",
       "39168       39168       Desiree Kidd      F  10th  Thomas High School   \n",
       "39169       39169    Carolyn Jackson      F  11th  Thomas High School   \n",
       "\n",
       "       reading_score  math_score  School ID      type  size   budget  \n",
       "0                 66          79          0  District  2917  1910635  \n",
       "1                 94          61          0  District  2917  1910635  \n",
       "2                 90          60          0  District  2917  1910635  \n",
       "3                 67          58          0  District  2917  1910635  \n",
       "4                 97          84          0  District  2917  1910635  \n",
       "...              ...         ...        ...       ...   ...      ...  \n",
       "39165             99          90         14   Charter  1635  1043130  \n",
       "39166             95          70         14   Charter  1635  1043130  \n",
       "39167             73          84         14   Charter  1635  1043130  \n",
       "39168             99          90         14   Charter  1635  1043130  \n",
       "39169             95          75         14   Charter  1635  1043130  \n",
       "\n",
       "[39170 rows x 11 columns]"
      ],
      "text/html": "<div>\n<style scoped>\n    .dataframe tbody tr th:only-of-type {\n        vertical-align: middle;\n    }\n\n    .dataframe tbody tr th {\n        vertical-align: top;\n    }\n\n    .dataframe thead th {\n        text-align: right;\n    }\n</style>\n<table border=\"1\" class=\"dataframe\">\n  <thead>\n    <tr style=\"text-align: right;\">\n      <th></th>\n      <th>Student ID</th>\n      <th>student_name</th>\n      <th>gender</th>\n      <th>grade</th>\n      <th>school_name</th>\n      <th>reading_score</th>\n      <th>math_score</th>\n      <th>School ID</th>\n      <th>type</th>\n      <th>size</th>\n      <th>budget</th>\n    </tr>\n  </thead>\n  <tbody>\n    <tr>\n      <th>0</th>\n      <td>0</td>\n      <td>Paul Bradley</td>\n      <td>M</td>\n      <td>9th</td>\n      <td>Huang High School</td>\n      <td>66</td>\n      <td>79</td>\n      <td>0</td>\n      <td>District</td>\n      <td>2917</td>\n      <td>1910635</td>\n    </tr>\n    <tr>\n      <th>1</th>\n      <td>1</td>\n      <td>Victor Smith</td>\n      <td>M</td>\n      <td>12th</td>\n      <td>Huang High School</td>\n      <td>94</td>\n      <td>61</td>\n      <td>0</td>\n      <td>District</td>\n      <td>2917</td>\n      <td>1910635</td>\n    </tr>\n    <tr>\n      <th>2</th>\n      <td>2</td>\n      <td>Kevin Rodriguez</td>\n      <td>M</td>\n      <td>12th</td>\n      <td>Huang High School</td>\n      <td>90</td>\n      <td>60</td>\n      <td>0</td>\n      <td>District</td>\n      <td>2917</td>\n      <td>1910635</td>\n    </tr>\n    <tr>\n      <th>3</th>\n      <td>3</td>\n      <td>Dr. Richard Scott</td>\n      <td>M</td>\n      <td>12th</td>\n      <td>Huang High School</td>\n      <td>67</td>\n      <td>58</td>\n      <td>0</td>\n      <td>District</td>\n      <td>2917</td>\n      <td>1910635</td>\n    </tr>\n    <tr>\n      <th>4</th>\n      <td>4</td>\n      <td>Bonnie Ray</td>\n      <td>F</td>\n      <td>9th</td>\n      <td>Huang High School</td>\n      <td>97</td>\n      <td>84</td>\n      <td>0</td>\n      <td>District</td>\n      <td>2917</td>\n      <td>1910635</td>\n    </tr>\n    <tr>\n      <th>...</th>\n      <td>...</td>\n      <td>...</td>\n      <td>...</td>\n      <td>...</td>\n      <td>...</td>\n      <td>...</td>\n      <td>...</td>\n      <td>...</td>\n      <td>...</td>\n      <td>...</td>\n      <td>...</td>\n    </tr>\n    <tr>\n      <th>39165</th>\n      <td>39165</td>\n      <td>Donna Howard</td>\n      <td>F</td>\n      <td>12th</td>\n      <td>Thomas High School</td>\n      <td>99</td>\n      <td>90</td>\n      <td>14</td>\n      <td>Charter</td>\n      <td>1635</td>\n      <td>1043130</td>\n    </tr>\n    <tr>\n      <th>39166</th>\n      <td>39166</td>\n      <td>Dawn Bell</td>\n      <td>F</td>\n      <td>10th</td>\n      <td>Thomas High School</td>\n      <td>95</td>\n      <td>70</td>\n      <td>14</td>\n      <td>Charter</td>\n      <td>1635</td>\n      <td>1043130</td>\n    </tr>\n    <tr>\n      <th>39167</th>\n      <td>39167</td>\n      <td>Rebecca Tanner</td>\n      <td>F</td>\n      <td>9th</td>\n      <td>Thomas High School</td>\n      <td>73</td>\n      <td>84</td>\n      <td>14</td>\n      <td>Charter</td>\n      <td>1635</td>\n      <td>1043130</td>\n    </tr>\n    <tr>\n      <th>39168</th>\n      <td>39168</td>\n      <td>Desiree Kidd</td>\n      <td>F</td>\n      <td>10th</td>\n      <td>Thomas High School</td>\n      <td>99</td>\n      <td>90</td>\n      <td>14</td>\n      <td>Charter</td>\n      <td>1635</td>\n      <td>1043130</td>\n    </tr>\n    <tr>\n      <th>39169</th>\n      <td>39169</td>\n      <td>Carolyn Jackson</td>\n      <td>F</td>\n      <td>11th</td>\n      <td>Thomas High School</td>\n      <td>95</td>\n      <td>75</td>\n      <td>14</td>\n      <td>Charter</td>\n      <td>1635</td>\n      <td>1043130</td>\n    </tr>\n  </tbody>\n</table>\n<p>39170 rows × 11 columns</p>\n</div>"
     },
     "metadata": {},
     "execution_count": 248
    }
   ],
   "source": [
    "# Dependencies and Setup\n",
    "import pandas as pd\n",
    "\n",
    "# File to Load (Remember to Change These)\n",
    "school_data_load = \"Resources/schools_complete.csv\"\n",
    "student_data_load = \"Resources/students_complete.csv\"\n",
    "\n",
    "# Read School and Student Data File and store into Pandas DataFrames\n",
    "school_data_df = pd.read_csv(school_data_load)\n",
    "student_data_df = pd.read_csv(student_data_load)\n",
    "\n",
    "# Combine the data into a single dataset  \n",
    "school_data_all_df = pd.merge(student_data_df, school_data_df, how=\"left\", on=[\"school_name\", \"school_name\"])\n",
    "school_data_all_df"
   ]
  },
  {
   "cell_type": "code",
   "execution_count": 249,
   "metadata": {},
   "outputs": [
    {
     "output_type": "execute_result",
     "data": {
      "text/plain": [
       "Index(['Student ID', 'student_name', 'gender', 'grade', 'school_name',\n",
       "       'reading_score', 'math_score', 'School ID', 'type', 'size', 'budget'],\n",
       "      dtype='object')"
      ]
     },
     "metadata": {},
     "execution_count": 249
    }
   ],
   "source": [
    "# get column names for easy reference\n",
    "school_data_all_df.columns"
   ]
  },
  {
   "cell_type": "code",
   "execution_count": 250,
   "metadata": {},
   "outputs": [
    {
     "output_type": "execute_result",
     "data": {
      "text/plain": [
       "15"
      ]
     },
     "metadata": {},
     "execution_count": 250
    }
   ],
   "source": [
    "# DISTRICT SUMMARY\n",
    "\n",
    "# calculate the total number of schools\n",
    "tot_schools = len(pd.unique(school_data_df['school_name']))\n",
    "tot_schools"
   ]
  },
  {
   "cell_type": "code",
   "execution_count": 251,
   "metadata": {},
   "outputs": [
    {
     "output_type": "execute_result",
     "data": {
      "text/plain": [
       "39170"
      ]
     },
     "metadata": {},
     "execution_count": 251
    }
   ],
   "source": [
    "# caluculate the total number of students\n",
    "tot_students_dist = student_data_df['Student ID'].count()\n",
    "tot_students_dist"
   ]
  },
  {
   "cell_type": "code",
   "execution_count": 252,
   "metadata": {},
   "outputs": [
    {
     "output_type": "execute_result",
     "data": {
      "text/plain": [
       "24649428"
      ]
     },
     "metadata": {},
     "execution_count": 252
    }
   ],
   "source": [
    "# calculate the total budget\n",
    "tot_budget_dist = school_data_df['budget'].sum()\n",
    "tot_budget_dist"
   ]
  },
  {
   "cell_type": "code",
   "execution_count": 253,
   "metadata": {},
   "outputs": [
    {
     "output_type": "execute_result",
     "data": {
      "text/plain": [
       "78.98537145774827"
      ]
     },
     "metadata": {},
     "execution_count": 253
    }
   ],
   "source": [
    "# calculate the averge math score\n",
    "avg_math_dist = student_data_df['math_score'].mean()\n",
    "avg_math_dist"
   ]
  },
  {
   "cell_type": "code",
   "execution_count": 254,
   "metadata": {},
   "outputs": [
    {
     "output_type": "execute_result",
     "data": {
      "text/plain": [
       "81.87784018381414"
      ]
     },
     "metadata": {},
     "execution_count": 254
    }
   ],
   "source": [
    "# caluclate the average reading score\n",
    "avg_read_dist = student_data_df['reading_score'].mean()\n",
    "avg_read_dist"
   ]
  },
  {
   "cell_type": "code",
   "execution_count": 255,
   "metadata": {},
   "outputs": [
    {
     "output_type": "execute_result",
     "data": {
      "text/plain": [
       "74.9808526933878"
      ]
     },
     "metadata": {},
     "execution_count": 255
    }
   ],
   "source": [
    "# calculate percent passed math\n",
    "pass_math_dist = len(school_data_all_df.loc[school_data_all_df['math_score'] > 69]) / tot_students_dist * 100\n",
    "pass_math_dist"
   ]
  },
  {
   "cell_type": "code",
   "execution_count": 256,
   "metadata": {},
   "outputs": [
    {
     "output_type": "execute_result",
     "data": {
      "text/plain": [
       "85.80546336482001"
      ]
     },
     "metadata": {},
     "execution_count": 256
    }
   ],
   "source": [
    "# calculate percent passed reading\n",
    "pass_read_dist = len(school_data_all_df.loc[school_data_all_df['reading_score'] > 69]) / tot_students_dist * 100\n",
    "pass_read_dist"
   ]
  },
  {
   "cell_type": "code",
   "execution_count": 257,
   "metadata": {},
   "outputs": [
    {
     "output_type": "execute_result",
     "data": {
      "text/plain": [
       "65.17232575950983"
      ]
     },
     "metadata": {},
     "execution_count": 257
    }
   ],
   "source": [
    "# calculate percent passing both math and reading\n",
    "pass_mathread_dist = len(school_data_all_df.loc[(school_data_all_df['math_score'] > 69) & (\n",
    "    school_data_all_df['reading_score'] > 69)]) / tot_students_dist * 100\n",
    "\n",
    "pass_mathread_dist"
   ]
  },
  {
   "cell_type": "code",
   "execution_count": 258,
   "metadata": {},
   "outputs": [
    {
     "output_type": "stream",
     "name": "stdout",
     "text": [
      "DISTRICT SUMMARY\n"
     ]
    },
    {
     "output_type": "execute_result",
     "data": {
      "text/plain": [
       "   Total # of Schools Total # of Students Total Budget Average Math Score  \\\n",
       "0                  15              39,170  $24,649,428                 79   \n",
       "\n",
       "  Average Reading Score % Passing Math % Passing Reading % Overall Passing  \n",
       "0                    82          75.0%             85.8%             65.2%  "
      ],
      "text/html": "<div>\n<style scoped>\n    .dataframe tbody tr th:only-of-type {\n        vertical-align: middle;\n    }\n\n    .dataframe tbody tr th {\n        vertical-align: top;\n    }\n\n    .dataframe thead th {\n        text-align: right;\n    }\n</style>\n<table border=\"1\" class=\"dataframe\">\n  <thead>\n    <tr style=\"text-align: right;\">\n      <th></th>\n      <th>Total # of Schools</th>\n      <th>Total # of Students</th>\n      <th>Total Budget</th>\n      <th>Average Math Score</th>\n      <th>Average Reading Score</th>\n      <th>% Passing Math</th>\n      <th>% Passing Reading</th>\n      <th>% Overall Passing</th>\n    </tr>\n  </thead>\n  <tbody>\n    <tr>\n      <th>0</th>\n      <td>15</td>\n      <td>39,170</td>\n      <td>$24,649,428</td>\n      <td>79</td>\n      <td>82</td>\n      <td>75.0%</td>\n      <td>85.8%</td>\n      <td>65.2%</td>\n    </tr>\n  </tbody>\n</table>\n</div>"
     },
     "metadata": {},
     "execution_count": 258
    }
   ],
   "source": [
    "# create the District Summary DataFrame\n",
    "dist_summary_df = pd.DataFrame(\n",
    "    {\"Total # of Schools\": [tot_schools],\n",
    "     \"Total # of Students\": [tot_students_dist],\n",
    "     \"Total Budget\": [tot_budget_dist],\n",
    "     \"Average Math Score\": [avg_math_dist],\n",
    "     \"Average Reading Score\": [avg_read_dist],\n",
    "     \"% Passing Math\": [pass_math_dist],\n",
    "     \"% Passing Reading\": [pass_read_dist],\n",
    "     \"% Overall Passing\": [pass_mathread_dist]\n",
    "     }\n",
    ")\n",
    "\n",
    "# format the District Summary columns\n",
    "dist_summary_df[\"Total # of Students\"] = dist_summary_df[\"Total # of Students\"].map(\"{:,}\".format)\n",
    "dist_summary_df[\"Total Budget\"] = dist_summary_df[\"Total Budget\"].map(\"${:,}\".format)\n",
    "dist_summary_df[\"Average Math Score\"] = dist_summary_df[\"Average Math Score\"].map(\"{:.0f}\".format)\n",
    "dist_summary_df[\"Average Reading Score\"] = dist_summary_df[\"Average Reading Score\"].map(\"{:.0f}\".format)\n",
    "dist_summary_df[\"% Passing Math\"] = dist_summary_df[\"% Passing Math\"].map(\"{:.1f}%\".format)\n",
    "dist_summary_df[\"% Passing Reading\"] = dist_summary_df[\"% Passing Reading\"].map(\"{:.1f}%\".format)\n",
    "dist_summary_df[\"% Overall Passing\"] = dist_summary_df[\"% Overall Passing\"].map(\"{:.1f}%\".format)\n",
    "\n",
    "print(\"DISTRICT SUMMARY\")\n",
    "dist_summary_df"
   ]
  },
  {
   "cell_type": "code",
   "execution_count": 259,
   "metadata": {},
   "outputs": [
    {
     "output_type": "execute_result",
     "data": {
      "text/plain": [
       "school_name\n",
       "Huang High School        District\n",
       "Figueroa High School     District\n",
       "Shelton High School       Charter\n",
       "Hernandez High School    District\n",
       "Griffin High School       Charter\n",
       "Wilson High School        Charter\n",
       "Cabrera High School       Charter\n",
       "Bailey High School       District\n",
       "Holden High School        Charter\n",
       "Pena High School          Charter\n",
       "Wright High School        Charter\n",
       "Rodriguez High School    District\n",
       "Johnson High School      District\n",
       "Ford High School         District\n",
       "Thomas High School        Charter\n",
       "Name: type, dtype: object"
      ]
     },
     "metadata": {},
     "execution_count": 259
    }
   ],
   "source": [
    "# SCHOOL SUMMARY\n",
    "\n",
    "# get school type\n",
    "school_type = school_data_df.set_index(['school_name'])['type']\n",
    "school_type"
   ]
  },
  {
   "cell_type": "code",
   "execution_count": 260,
   "metadata": {},
   "outputs": [
    {
     "output_type": "execute_result",
     "data": {
      "text/plain": [
       "Bailey High School       4976\n",
       "Johnson High School      4761\n",
       "Hernandez High School    4635\n",
       "Rodriguez High School    3999\n",
       "Figueroa High School     2949\n",
       "Huang High School        2917\n",
       "Ford High School         2739\n",
       "Wilson High School       2283\n",
       "Cabrera High School      1858\n",
       "Wright High School       1800\n",
       "Shelton High School      1761\n",
       "Thomas High School       1635\n",
       "Griffin High School      1468\n",
       "Pena High School          962\n",
       "Holden High School        427\n",
       "Name: school_name, dtype: int64"
      ]
     },
     "metadata": {},
     "execution_count": 260
    }
   ],
   "source": [
    "# calculate total student count per school\n",
    "student_count = school_data_all_df['school_name'].value_counts()\n",
    "student_count"
   ]
  },
  {
   "cell_type": "code",
   "execution_count": 261,
   "metadata": {},
   "outputs": [
    {
     "output_type": "execute_result",
     "data": {
      "text/plain": [
       "school_name\n",
       "Bailey High School       3124928.0\n",
       "Cabrera High School      1081356.0\n",
       "Figueroa High School     1884411.0\n",
       "Ford High School         1763916.0\n",
       "Griffin High School       917500.0\n",
       "Hernandez High School    3022020.0\n",
       "Holden High School        248087.0\n",
       "Huang High School        1910635.0\n",
       "Johnson High School      3094650.0\n",
       "Pena High School          585858.0\n",
       "Rodriguez High School    2547363.0\n",
       "Shelton High School      1056600.0\n",
       "Thomas High School       1043130.0\n",
       "Wilson High School       1319574.0\n",
       "Wright High School       1049400.0\n",
       "Name: budget, dtype: float64"
      ]
     },
     "metadata": {},
     "execution_count": 261
    }
   ],
   "source": [
    "# calculate total budget per school\n",
    "school_budget = school_data_all_df.groupby(['school_name']).mean()['budget']\n",
    "school_budget"
   ]
  },
  {
   "cell_type": "code",
   "execution_count": 262,
   "metadata": {},
   "outputs": [
    {
     "output_type": "execute_result",
     "data": {
      "text/plain": [
       "Bailey High School       628.0\n",
       "Cabrera High School      582.0\n",
       "Figueroa High School     639.0\n",
       "Ford High School         644.0\n",
       "Griffin High School      625.0\n",
       "Hernandez High School    652.0\n",
       "Holden High School       581.0\n",
       "Huang High School        655.0\n",
       "Johnson High School      650.0\n",
       "Pena High School         609.0\n",
       "Rodriguez High School    637.0\n",
       "Shelton High School      600.0\n",
       "Thomas High School       638.0\n",
       "Wilson High School       578.0\n",
       "Wright High School       583.0\n",
       "dtype: float64"
      ]
     },
     "metadata": {},
     "execution_count": 262
    }
   ],
   "source": [
    "# calculate total budget per student per school\n",
    "student_budget = school_budget / student_count\n",
    "student_budget"
   ]
  },
  {
   "cell_type": "code",
   "execution_count": 263,
   "metadata": {},
   "outputs": [
    {
     "output_type": "execute_result",
     "data": {
      "text/plain": [
       "school_name\n",
       "Bailey High School       77.048432\n",
       "Cabrera High School      83.061895\n",
       "Figueroa High School     76.711767\n",
       "Ford High School         77.102592\n",
       "Griffin High School      83.351499\n",
       "Hernandez High School    77.289752\n",
       "Holden High School       83.803279\n",
       "Huang High School        76.629414\n",
       "Johnson High School      77.072464\n",
       "Pena High School         83.839917\n",
       "Rodriguez High School    76.842711\n",
       "Shelton High School      83.359455\n",
       "Thomas High School       83.418349\n",
       "Wilson High School       83.274201\n",
       "Wright High School       83.682222\n",
       "Name: math_score, dtype: float64"
      ]
     },
     "metadata": {},
     "execution_count": 263
    }
   ],
   "source": [
    "# calculate average math score\n",
    "math_avg = school_data_all_df.groupby(['school_name']).mean()['math_score']\n",
    "math_avg"
   ]
  },
  {
   "cell_type": "code",
   "execution_count": 264,
   "metadata": {},
   "outputs": [
    {
     "output_type": "execute_result",
     "data": {
      "text/plain": [
       "school_name\n",
       "Bailey High School       81.033963\n",
       "Cabrera High School      83.975780\n",
       "Figueroa High School     81.158020\n",
       "Ford High School         80.746258\n",
       "Griffin High School      83.816757\n",
       "Hernandez High School    80.934412\n",
       "Holden High School       83.814988\n",
       "Huang High School        81.182722\n",
       "Johnson High School      80.966394\n",
       "Pena High School         84.044699\n",
       "Rodriguez High School    80.744686\n",
       "Shelton High School      83.725724\n",
       "Thomas High School       83.848930\n",
       "Wilson High School       83.989488\n",
       "Wright High School       83.955000\n",
       "Name: reading_score, dtype: float64"
      ]
     },
     "metadata": {},
     "execution_count": 264
    }
   ],
   "source": [
    "# calculate average reading score\n",
    "read_avg = school_data_all_df.groupby(['school_name']).mean()['reading_score']\n",
    "read_avg"
   ]
  },
  {
   "cell_type": "code",
   "execution_count": 265,
   "metadata": {},
   "outputs": [
    {
     "output_type": "execute_result",
     "data": {
      "text/plain": [
       "Bailey High School       66.680064\n",
       "Cabrera High School      94.133477\n",
       "Figueroa High School     65.988471\n",
       "Ford High School         68.309602\n",
       "Griffin High School      93.392371\n",
       "Hernandez High School    66.752967\n",
       "Holden High School       92.505855\n",
       "Huang High School        65.683922\n",
       "Johnson High School      66.057551\n",
       "Pena High School         94.594595\n",
       "Rodriguez High School    66.366592\n",
       "Shelton High School      93.867121\n",
       "Thomas High School       93.272171\n",
       "Wilson High School       93.867718\n",
       "Wright High School       93.333333\n",
       "dtype: float64"
      ]
     },
     "metadata": {},
     "execution_count": 265
    }
   ],
   "source": [
    "# calculate % of students passing math\n",
    "\n",
    "# get number of students passing math\n",
    "pass_math_sch = school_data_all_df[(school_data_all_df['math_score'] > 69)]\n",
    "\n",
    "# group students passing math by school\n",
    "pass_math_sch = pass_math_sch.groupby(['school_name']).count()['student_name']\n",
    "\n",
    "# get % of students passing math\n",
    "pass_math_sch = pass_math_sch / student_count * 100\n",
    "pass_math_sch"
   ]
  },
  {
   "cell_type": "code",
   "execution_count": 266,
   "metadata": {},
   "outputs": [
    {
     "output_type": "execute_result",
     "data": {
      "text/plain": [
       "Bailey High School       81.933280\n",
       "Cabrera High School      97.039828\n",
       "Figueroa High School     80.739234\n",
       "Ford High School         79.299014\n",
       "Griffin High School      97.138965\n",
       "Hernandez High School    80.862999\n",
       "Holden High School       96.252927\n",
       "Huang High School        81.316421\n",
       "Johnson High School      81.222432\n",
       "Pena High School         95.945946\n",
       "Rodriguez High School    80.220055\n",
       "Shelton High School      95.854628\n",
       "Thomas High School       97.308869\n",
       "Wilson High School       96.539641\n",
       "Wright High School       96.611111\n",
       "dtype: float64"
      ]
     },
     "metadata": {},
     "execution_count": 266
    }
   ],
   "source": [
    "# calculate % of students passing reading\n",
    "\n",
    "# get number of students passing reading\n",
    "pass_read_sch = school_data_all_df[(school_data_all_df['reading_score'] > 69)]\n",
    "\n",
    "# group students passing math by school\n",
    "pass_read_sch = pass_read_sch.groupby(['school_name']).count()['student_name']\n",
    "\n",
    "# get % of students passing math\n",
    "pass_read_sch = pass_read_sch / student_count * 100\n",
    "pass_read_sch"
   ]
  },
  {
   "cell_type": "code",
   "execution_count": 267,
   "metadata": {},
   "outputs": [
    {
     "output_type": "execute_result",
     "data": {
      "text/plain": [
       "Bailey High School       54.642283\n",
       "Cabrera High School      91.334769\n",
       "Figueroa High School     53.204476\n",
       "Ford High School         54.289887\n",
       "Griffin High School      90.599455\n",
       "Hernandez High School    53.527508\n",
       "Holden High School       89.227166\n",
       "Huang High School        53.513884\n",
       "Johnson High School      53.539172\n",
       "Pena High School         90.540541\n",
       "Rodriguez High School    52.988247\n",
       "Shelton High School      89.892107\n",
       "Thomas High School       90.948012\n",
       "Wilson High School       90.582567\n",
       "Wright High School       90.333333\n",
       "dtype: float64"
      ]
     },
     "metadata": {},
     "execution_count": 267
    }
   ],
   "source": [
    "# calculate % of students passing math and reading\n",
    "\n",
    "# get the count of students passing both\n",
    "pass_both = school_data_all_df[(school_data_all_df['math_score'] > 69) & (school_data_all_df['reading_score'] > 69)]\n",
    "\n",
    "# group the count of students by school\n",
    "pass_both = pass_both.groupby(['school_name']).count()['student_name']\n",
    "\n",
    "# get % of students passing both\n",
    "pass_both = pass_both / student_count * 100\n",
    "pass_both"
   ]
  },
  {
   "cell_type": "code",
   "execution_count": 268,
   "metadata": {},
   "outputs": [
    {
     "output_type": "stream",
     "name": "stdout",
     "text": [
      "SCHOOL SUMMARY\n"
     ]
    },
    {
     "output_type": "execute_result",
     "data": {
      "text/plain": [
       "                      School Type Total Students Total School Budget  \\\n",
       "Bailey High School       District          4,976       $3,124,928.00   \n",
       "Cabrera High School       Charter          1,858       $1,081,356.00   \n",
       "Figueroa High School     District          2,949       $1,884,411.00   \n",
       "Ford High School         District          2,739       $1,763,916.00   \n",
       "Griffin High School       Charter          1,468         $917,500.00   \n",
       "Hernandez High School    District          4,635       $3,022,020.00   \n",
       "Holden High School        Charter            427         $248,087.00   \n",
       "Huang High School        District          2,917       $1,910,635.00   \n",
       "Johnson High School      District          4,761       $3,094,650.00   \n",
       "Pena High School          Charter            962         $585,858.00   \n",
       "Rodriguez High School    District          3,999       $2,547,363.00   \n",
       "Shelton High School       Charter          1,761       $1,056,600.00   \n",
       "Thomas High School        Charter          1,635       $1,043,130.00   \n",
       "Wilson High School        Charter          2,283       $1,319,574.00   \n",
       "Wright High School        Charter          1,800       $1,049,400.00   \n",
       "\n",
       "                      Per Student Budget Average Math Score  \\\n",
       "Bailey High School               $628.00                 77   \n",
       "Cabrera High School              $582.00                 83   \n",
       "Figueroa High School             $639.00                 77   \n",
       "Ford High School                 $644.00                 77   \n",
       "Griffin High School              $625.00                 83   \n",
       "Hernandez High School            $652.00                 77   \n",
       "Holden High School               $581.00                 84   \n",
       "Huang High School                $655.00                 77   \n",
       "Johnson High School              $650.00                 77   \n",
       "Pena High School                 $609.00                 84   \n",
       "Rodriguez High School            $637.00                 77   \n",
       "Shelton High School              $600.00                 83   \n",
       "Thomas High School               $638.00                 83   \n",
       "Wilson High School               $578.00                 83   \n",
       "Wright High School               $583.00                 84   \n",
       "\n",
       "                      Average Reading Score % Passing Math % Passing Reading  \\\n",
       "Bailey High School                       81          66.7%             81.9%   \n",
       "Cabrera High School                      84          94.1%             97.0%   \n",
       "Figueroa High School                     81          66.0%             80.7%   \n",
       "Ford High School                         81          68.3%             79.3%   \n",
       "Griffin High School                      84          93.4%             97.1%   \n",
       "Hernandez High School                    81          66.8%             80.9%   \n",
       "Holden High School                       84          92.5%             96.3%   \n",
       "Huang High School                        81          65.7%             81.3%   \n",
       "Johnson High School                      81          66.1%             81.2%   \n",
       "Pena High School                         84          94.6%             95.9%   \n",
       "Rodriguez High School                    81          66.4%             80.2%   \n",
       "Shelton High School                      84          93.9%             95.9%   \n",
       "Thomas High School                       84          93.3%             97.3%   \n",
       "Wilson High School                       84          93.9%             96.5%   \n",
       "Wright High School                       84          93.3%             96.6%   \n",
       "\n",
       "                      % Overall Passing  \n",
       "Bailey High School                54.6%  \n",
       "Cabrera High School               91.3%  \n",
       "Figueroa High School              53.2%  \n",
       "Ford High School                  54.3%  \n",
       "Griffin High School               90.6%  \n",
       "Hernandez High School             53.5%  \n",
       "Holden High School                89.2%  \n",
       "Huang High School                 53.5%  \n",
       "Johnson High School               53.5%  \n",
       "Pena High School                  90.5%  \n",
       "Rodriguez High School             53.0%  \n",
       "Shelton High School               89.9%  \n",
       "Thomas High School                90.9%  \n",
       "Wilson High School                90.6%  \n",
       "Wright High School                90.3%  "
      ],
      "text/html": "<div>\n<style scoped>\n    .dataframe tbody tr th:only-of-type {\n        vertical-align: middle;\n    }\n\n    .dataframe tbody tr th {\n        vertical-align: top;\n    }\n\n    .dataframe thead th {\n        text-align: right;\n    }\n</style>\n<table border=\"1\" class=\"dataframe\">\n  <thead>\n    <tr style=\"text-align: right;\">\n      <th></th>\n      <th>School Type</th>\n      <th>Total Students</th>\n      <th>Total School Budget</th>\n      <th>Per Student Budget</th>\n      <th>Average Math Score</th>\n      <th>Average Reading Score</th>\n      <th>% Passing Math</th>\n      <th>% Passing Reading</th>\n      <th>% Overall Passing</th>\n    </tr>\n  </thead>\n  <tbody>\n    <tr>\n      <th>Bailey High School</th>\n      <td>District</td>\n      <td>4,976</td>\n      <td>$3,124,928.00</td>\n      <td>$628.00</td>\n      <td>77</td>\n      <td>81</td>\n      <td>66.7%</td>\n      <td>81.9%</td>\n      <td>54.6%</td>\n    </tr>\n    <tr>\n      <th>Cabrera High School</th>\n      <td>Charter</td>\n      <td>1,858</td>\n      <td>$1,081,356.00</td>\n      <td>$582.00</td>\n      <td>83</td>\n      <td>84</td>\n      <td>94.1%</td>\n      <td>97.0%</td>\n      <td>91.3%</td>\n    </tr>\n    <tr>\n      <th>Figueroa High School</th>\n      <td>District</td>\n      <td>2,949</td>\n      <td>$1,884,411.00</td>\n      <td>$639.00</td>\n      <td>77</td>\n      <td>81</td>\n      <td>66.0%</td>\n      <td>80.7%</td>\n      <td>53.2%</td>\n    </tr>\n    <tr>\n      <th>Ford High School</th>\n      <td>District</td>\n      <td>2,739</td>\n      <td>$1,763,916.00</td>\n      <td>$644.00</td>\n      <td>77</td>\n      <td>81</td>\n      <td>68.3%</td>\n      <td>79.3%</td>\n      <td>54.3%</td>\n    </tr>\n    <tr>\n      <th>Griffin High School</th>\n      <td>Charter</td>\n      <td>1,468</td>\n      <td>$917,500.00</td>\n      <td>$625.00</td>\n      <td>83</td>\n      <td>84</td>\n      <td>93.4%</td>\n      <td>97.1%</td>\n      <td>90.6%</td>\n    </tr>\n    <tr>\n      <th>Hernandez High School</th>\n      <td>District</td>\n      <td>4,635</td>\n      <td>$3,022,020.00</td>\n      <td>$652.00</td>\n      <td>77</td>\n      <td>81</td>\n      <td>66.8%</td>\n      <td>80.9%</td>\n      <td>53.5%</td>\n    </tr>\n    <tr>\n      <th>Holden High School</th>\n      <td>Charter</td>\n      <td>427</td>\n      <td>$248,087.00</td>\n      <td>$581.00</td>\n      <td>84</td>\n      <td>84</td>\n      <td>92.5%</td>\n      <td>96.3%</td>\n      <td>89.2%</td>\n    </tr>\n    <tr>\n      <th>Huang High School</th>\n      <td>District</td>\n      <td>2,917</td>\n      <td>$1,910,635.00</td>\n      <td>$655.00</td>\n      <td>77</td>\n      <td>81</td>\n      <td>65.7%</td>\n      <td>81.3%</td>\n      <td>53.5%</td>\n    </tr>\n    <tr>\n      <th>Johnson High School</th>\n      <td>District</td>\n      <td>4,761</td>\n      <td>$3,094,650.00</td>\n      <td>$650.00</td>\n      <td>77</td>\n      <td>81</td>\n      <td>66.1%</td>\n      <td>81.2%</td>\n      <td>53.5%</td>\n    </tr>\n    <tr>\n      <th>Pena High School</th>\n      <td>Charter</td>\n      <td>962</td>\n      <td>$585,858.00</td>\n      <td>$609.00</td>\n      <td>84</td>\n      <td>84</td>\n      <td>94.6%</td>\n      <td>95.9%</td>\n      <td>90.5%</td>\n    </tr>\n    <tr>\n      <th>Rodriguez High School</th>\n      <td>District</td>\n      <td>3,999</td>\n      <td>$2,547,363.00</td>\n      <td>$637.00</td>\n      <td>77</td>\n      <td>81</td>\n      <td>66.4%</td>\n      <td>80.2%</td>\n      <td>53.0%</td>\n    </tr>\n    <tr>\n      <th>Shelton High School</th>\n      <td>Charter</td>\n      <td>1,761</td>\n      <td>$1,056,600.00</td>\n      <td>$600.00</td>\n      <td>83</td>\n      <td>84</td>\n      <td>93.9%</td>\n      <td>95.9%</td>\n      <td>89.9%</td>\n    </tr>\n    <tr>\n      <th>Thomas High School</th>\n      <td>Charter</td>\n      <td>1,635</td>\n      <td>$1,043,130.00</td>\n      <td>$638.00</td>\n      <td>83</td>\n      <td>84</td>\n      <td>93.3%</td>\n      <td>97.3%</td>\n      <td>90.9%</td>\n    </tr>\n    <tr>\n      <th>Wilson High School</th>\n      <td>Charter</td>\n      <td>2,283</td>\n      <td>$1,319,574.00</td>\n      <td>$578.00</td>\n      <td>83</td>\n      <td>84</td>\n      <td>93.9%</td>\n      <td>96.5%</td>\n      <td>90.6%</td>\n    </tr>\n    <tr>\n      <th>Wright High School</th>\n      <td>Charter</td>\n      <td>1,800</td>\n      <td>$1,049,400.00</td>\n      <td>$583.00</td>\n      <td>84</td>\n      <td>84</td>\n      <td>93.3%</td>\n      <td>96.6%</td>\n      <td>90.3%</td>\n    </tr>\n  </tbody>\n</table>\n</div>"
     },
     "metadata": {},
     "execution_count": 268
    }
   ],
   "source": [
    "# create School Summary DataFrame\n",
    "school_summary_df = pd.DataFrame({\n",
    "    \"School Type\": school_type,\n",
    "    \"Total Students\": student_count,\n",
    "    \"Total School Budget\": school_budget,\n",
    "    \"Per Student Budget\": student_budget,\n",
    "    \"Average Math Score\": math_avg,\n",
    "    \"Average Reading Score\": read_avg,\n",
    "    \"% Passing Math\": pass_math_sch,\n",
    "    \"% Passing Reading\": pass_read_sch,\n",
    "    \"% Overall Passing\": pass_both\n",
    "    }\n",
    ")\n",
    "\n",
    "# format the School Summary columns\n",
    "school_summary_df[\"Total Students\"] = school_summary_df[\"Total Students\"].map(\"{:,}\".format)\n",
    "school_summary_df[\"Total School Budget\"] = school_summary_df[\"Total School Budget\"].map(\"${:,.2f}\".format)\n",
    "school_summary_df[\"Per Student Budget\"] = school_summary_df[\"Per Student Budget\"].map(\"${:.2f}\".format)\n",
    "school_summary_df[\"Average Math Score\"] = school_summary_df[\"Average Math Score\"].map(\"{:.0f}\".format)\n",
    "school_summary_df[\"Average Reading Score\"] = school_summary_df[\"Average Reading Score\"].map(\"{:.0f}\".format)\n",
    "school_summary_df[\"% Passing Math\"] = school_summary_df[\"% Passing Math\"].map(\"{:.1f}%\".format)\n",
    "school_summary_df[\"% Passing Reading\"] = school_summary_df[\"% Passing Reading\"].map(\"{:.1f}%\".format)\n",
    "school_summary_df[\"% Overall Passing\"] = school_summary_df[\"% Overall Passing\"].map(\"{:.1f}%\".format)\n",
    "\n",
    "print(\"SCHOOL SUMMARY\")\n",
    "school_summary_df"
   ]
  },
  {
   "cell_type": "code",
   "execution_count": 269,
   "metadata": {},
   "outputs": [
    {
     "output_type": "stream",
     "name": "stdout",
     "text": [
      "TOP PERFORMING SCHOOLS BY % OVERALL PASSING\n"
     ]
    },
    {
     "output_type": "execute_result",
     "data": {
      "text/plain": [
       "                    School Type Total Students Total School Budget  \\\n",
       "Cabrera High School     Charter          1,858       $1,081,356.00   \n",
       "Thomas High School      Charter          1,635       $1,043,130.00   \n",
       "Griffin High School     Charter          1,468         $917,500.00   \n",
       "Wilson High School      Charter          2,283       $1,319,574.00   \n",
       "Pena High School        Charter            962         $585,858.00   \n",
       "\n",
       "                    Per Student Budget Average Math Score  \\\n",
       "Cabrera High School            $582.00                 83   \n",
       "Thomas High School             $638.00                 83   \n",
       "Griffin High School            $625.00                 83   \n",
       "Wilson High School             $578.00                 83   \n",
       "Pena High School               $609.00                 84   \n",
       "\n",
       "                    Average Reading Score % Passing Math % Passing Reading  \\\n",
       "Cabrera High School                    84          94.1%             97.0%   \n",
       "Thomas High School                     84          93.3%             97.3%   \n",
       "Griffin High School                    84          93.4%             97.1%   \n",
       "Wilson High School                     84          93.9%             96.5%   \n",
       "Pena High School                       84          94.6%             95.9%   \n",
       "\n",
       "                    % Overall Passing  \n",
       "Cabrera High School             91.3%  \n",
       "Thomas High School              90.9%  \n",
       "Griffin High School             90.6%  \n",
       "Wilson High School              90.6%  \n",
       "Pena High School                90.5%  "
      ],
      "text/html": "<div>\n<style scoped>\n    .dataframe tbody tr th:only-of-type {\n        vertical-align: middle;\n    }\n\n    .dataframe tbody tr th {\n        vertical-align: top;\n    }\n\n    .dataframe thead th {\n        text-align: right;\n    }\n</style>\n<table border=\"1\" class=\"dataframe\">\n  <thead>\n    <tr style=\"text-align: right;\">\n      <th></th>\n      <th>School Type</th>\n      <th>Total Students</th>\n      <th>Total School Budget</th>\n      <th>Per Student Budget</th>\n      <th>Average Math Score</th>\n      <th>Average Reading Score</th>\n      <th>% Passing Math</th>\n      <th>% Passing Reading</th>\n      <th>% Overall Passing</th>\n    </tr>\n  </thead>\n  <tbody>\n    <tr>\n      <th>Cabrera High School</th>\n      <td>Charter</td>\n      <td>1,858</td>\n      <td>$1,081,356.00</td>\n      <td>$582.00</td>\n      <td>83</td>\n      <td>84</td>\n      <td>94.1%</td>\n      <td>97.0%</td>\n      <td>91.3%</td>\n    </tr>\n    <tr>\n      <th>Thomas High School</th>\n      <td>Charter</td>\n      <td>1,635</td>\n      <td>$1,043,130.00</td>\n      <td>$638.00</td>\n      <td>83</td>\n      <td>84</td>\n      <td>93.3%</td>\n      <td>97.3%</td>\n      <td>90.9%</td>\n    </tr>\n    <tr>\n      <th>Griffin High School</th>\n      <td>Charter</td>\n      <td>1,468</td>\n      <td>$917,500.00</td>\n      <td>$625.00</td>\n      <td>83</td>\n      <td>84</td>\n      <td>93.4%</td>\n      <td>97.1%</td>\n      <td>90.6%</td>\n    </tr>\n    <tr>\n      <th>Wilson High School</th>\n      <td>Charter</td>\n      <td>2,283</td>\n      <td>$1,319,574.00</td>\n      <td>$578.00</td>\n      <td>83</td>\n      <td>84</td>\n      <td>93.9%</td>\n      <td>96.5%</td>\n      <td>90.6%</td>\n    </tr>\n    <tr>\n      <th>Pena High School</th>\n      <td>Charter</td>\n      <td>962</td>\n      <td>$585,858.00</td>\n      <td>$609.00</td>\n      <td>84</td>\n      <td>84</td>\n      <td>94.6%</td>\n      <td>95.9%</td>\n      <td>90.5%</td>\n    </tr>\n  </tbody>\n</table>\n</div>"
     },
     "metadata": {},
     "execution_count": 269
    }
   ],
   "source": [
    "# SORT AND DISPLAY the Top 5 Performing Schools (By % Overall Passing)\n",
    "\n",
    "school_summary_df.sort_values(by=['% Overall Passing'], ascending=False, inplace=True)\n",
    "\n",
    "print('TOP PERFORMING SCHOOLS BY % OVERALL PASSING')\n",
    "school_summary_df.head(5)"
   ]
  },
  {
   "cell_type": "code",
   "execution_count": 270,
   "metadata": {},
   "outputs": [
    {
     "output_type": "stream",
     "name": "stdout",
     "text": [
      "BOTTOM PERFORMING SCHOOLS BY % OVERALL PASSING\n"
     ]
    },
    {
     "output_type": "execute_result",
     "data": {
      "text/plain": [
       "                      School Type Total Students Total School Budget  \\\n",
       "Rodriguez High School    District          3,999       $2,547,363.00   \n",
       "Figueroa High School     District          2,949       $1,884,411.00   \n",
       "Hernandez High School    District          4,635       $3,022,020.00   \n",
       "Huang High School        District          2,917       $1,910,635.00   \n",
       "Johnson High School      District          4,761       $3,094,650.00   \n",
       "\n",
       "                      Per Student Budget Average Math Score  \\\n",
       "Rodriguez High School            $637.00                 77   \n",
       "Figueroa High School             $639.00                 77   \n",
       "Hernandez High School            $652.00                 77   \n",
       "Huang High School                $655.00                 77   \n",
       "Johnson High School              $650.00                 77   \n",
       "\n",
       "                      Average Reading Score % Passing Math % Passing Reading  \\\n",
       "Rodriguez High School                    81          66.4%             80.2%   \n",
       "Figueroa High School                     81          66.0%             80.7%   \n",
       "Hernandez High School                    81          66.8%             80.9%   \n",
       "Huang High School                        81          65.7%             81.3%   \n",
       "Johnson High School                      81          66.1%             81.2%   \n",
       "\n",
       "                      % Overall Passing  \n",
       "Rodriguez High School             53.0%  \n",
       "Figueroa High School              53.2%  \n",
       "Hernandez High School             53.5%  \n",
       "Huang High School                 53.5%  \n",
       "Johnson High School               53.5%  "
      ],
      "text/html": "<div>\n<style scoped>\n    .dataframe tbody tr th:only-of-type {\n        vertical-align: middle;\n    }\n\n    .dataframe tbody tr th {\n        vertical-align: top;\n    }\n\n    .dataframe thead th {\n        text-align: right;\n    }\n</style>\n<table border=\"1\" class=\"dataframe\">\n  <thead>\n    <tr style=\"text-align: right;\">\n      <th></th>\n      <th>School Type</th>\n      <th>Total Students</th>\n      <th>Total School Budget</th>\n      <th>Per Student Budget</th>\n      <th>Average Math Score</th>\n      <th>Average Reading Score</th>\n      <th>% Passing Math</th>\n      <th>% Passing Reading</th>\n      <th>% Overall Passing</th>\n    </tr>\n  </thead>\n  <tbody>\n    <tr>\n      <th>Rodriguez High School</th>\n      <td>District</td>\n      <td>3,999</td>\n      <td>$2,547,363.00</td>\n      <td>$637.00</td>\n      <td>77</td>\n      <td>81</td>\n      <td>66.4%</td>\n      <td>80.2%</td>\n      <td>53.0%</td>\n    </tr>\n    <tr>\n      <th>Figueroa High School</th>\n      <td>District</td>\n      <td>2,949</td>\n      <td>$1,884,411.00</td>\n      <td>$639.00</td>\n      <td>77</td>\n      <td>81</td>\n      <td>66.0%</td>\n      <td>80.7%</td>\n      <td>53.2%</td>\n    </tr>\n    <tr>\n      <th>Hernandez High School</th>\n      <td>District</td>\n      <td>4,635</td>\n      <td>$3,022,020.00</td>\n      <td>$652.00</td>\n      <td>77</td>\n      <td>81</td>\n      <td>66.8%</td>\n      <td>80.9%</td>\n      <td>53.5%</td>\n    </tr>\n    <tr>\n      <th>Huang High School</th>\n      <td>District</td>\n      <td>2,917</td>\n      <td>$1,910,635.00</td>\n      <td>$655.00</td>\n      <td>77</td>\n      <td>81</td>\n      <td>65.7%</td>\n      <td>81.3%</td>\n      <td>53.5%</td>\n    </tr>\n    <tr>\n      <th>Johnson High School</th>\n      <td>District</td>\n      <td>4,761</td>\n      <td>$3,094,650.00</td>\n      <td>$650.00</td>\n      <td>77</td>\n      <td>81</td>\n      <td>66.1%</td>\n      <td>81.2%</td>\n      <td>53.5%</td>\n    </tr>\n  </tbody>\n</table>\n</div>"
     },
     "metadata": {},
     "execution_count": 270
    }
   ],
   "source": [
    "# SORT AND DISPLAY the Bottom 5 Performing Schools (By % Overall Passing)\n",
    "\n",
    "school_summary_df.sort_values(by=['% Overall Passing'], ascending=True, inplace=True)\n",
    "\n",
    "print('BOTTOM PERFORMING SCHOOLS BY % OVERALL PASSING')\n",
    "school_summary_df.head(5)"
   ]
  },
  {
   "cell_type": "code",
   "execution_count": 271,
   "metadata": {},
   "outputs": [
    {
     "output_type": "execute_result",
     "data": {
      "text/plain": [
       "array(['9th', '12th', '11th', '10th'], dtype=object)"
      ]
     },
     "metadata": {},
     "execution_count": 271
    }
   ],
   "source": [
    "# MATH SCORES BY GRADE\n",
    "\n",
    "# get list of grade level values for reference\n",
    "school_data_all_df.grade.unique()"
   ]
  },
  {
   "cell_type": "code",
   "execution_count": 272,
   "metadata": {},
   "outputs": [
    {
     "output_type": "execute_result",
     "data": {
      "text/plain": [
       "                        9th   10th   11th   12th\n",
       "Bailey High School    77.08  77.00  77.52  76.49\n",
       "Cabrera High School   83.09  83.15  82.77  83.28\n",
       "Figueroa High School  76.40  76.54  76.88  77.15\n",
       "Ford High School      77.36  77.67  76.92  76.18\n",
       "Griffin High School   82.04  84.23  83.84  83.36"
      ],
      "text/html": "<div>\n<style scoped>\n    .dataframe tbody tr th:only-of-type {\n        vertical-align: middle;\n    }\n\n    .dataframe tbody tr th {\n        vertical-align: top;\n    }\n\n    .dataframe thead th {\n        text-align: right;\n    }\n</style>\n<table border=\"1\" class=\"dataframe\">\n  <thead>\n    <tr style=\"text-align: right;\">\n      <th></th>\n      <th>9th</th>\n      <th>10th</th>\n      <th>11th</th>\n      <th>12th</th>\n    </tr>\n  </thead>\n  <tbody>\n    <tr>\n      <th>Bailey High School</th>\n      <td>77.08</td>\n      <td>77.00</td>\n      <td>77.52</td>\n      <td>76.49</td>\n    </tr>\n    <tr>\n      <th>Cabrera High School</th>\n      <td>83.09</td>\n      <td>83.15</td>\n      <td>82.77</td>\n      <td>83.28</td>\n    </tr>\n    <tr>\n      <th>Figueroa High School</th>\n      <td>76.40</td>\n      <td>76.54</td>\n      <td>76.88</td>\n      <td>77.15</td>\n    </tr>\n    <tr>\n      <th>Ford High School</th>\n      <td>77.36</td>\n      <td>77.67</td>\n      <td>76.92</td>\n      <td>76.18</td>\n    </tr>\n    <tr>\n      <th>Griffin High School</th>\n      <td>82.04</td>\n      <td>84.23</td>\n      <td>83.84</td>\n      <td>83.36</td>\n    </tr>\n  </tbody>\n</table>\n</div>"
     },
     "metadata": {},
     "execution_count": 272
    }
   ],
   "source": [
    "# create series for each grade using conditional statements\n",
    "ninth_grade = school_data_all_df[(school_data_all_df['grade'] == '9th')]\n",
    "tenth_grade = school_data_all_df[(school_data_all_df['grade'] == '10th')]\n",
    "eleventh_grade = school_data_all_df[(school_data_all_df['grade'] == '11th')]\n",
    "twelfth_grade = school_data_all_df[(school_data_all_df['grade'] == '12th')]\n",
    "\n",
    "# group each grade series by school and get avg math score\n",
    "ninth_grade_math = ninth_grade.groupby(['school_name']).mean()['math_score']\n",
    "tenth_grade_math = tenth_grade.groupby(['school_name']).mean()['math_score']\n",
    "eleventh_grade_math = eleventh_grade.groupby(['school_name']).mean()['math_score']\n",
    "twelfth_grade_math = twelfth_grade.groupby(['school_name']).mean()['math_score']\n",
    "\n",
    "# create the DataFrame\n",
    "math_scores_by_grade = pd.DataFrame({\n",
    "    \"9th\": ninth_grade_math,\n",
    "    \"10th\": tenth_grade_math,\n",
    "    \"11th\": eleventh_grade_math,\n",
    "    \"12th\": twelfth_grade_math\n",
    "    }\n",
    ")\n",
    "\n",
    "# format the DataFrame\n",
    "math_scores_by_grade[\"9th\"] = math_scores_by_grade[\"9th\"].map(\"{:.2f}\".format)\n",
    "math_scores_by_grade[\"10th\"] = math_scores_by_grade[\"10th\"].map(\"{:.2f}\".format)\n",
    "math_scores_by_grade[\"11th\"] = math_scores_by_grade[\"11th\"].map(\"{:.2f}\".format)\n",
    "math_scores_by_grade[\"12th\"] = math_scores_by_grade[\"12th\"].map(\"{:.2f}\".format)\n",
    "\n",
    "# remove Index title school_name\n",
    "math_scores_by_grade.index.name = None\n",
    "\n",
    "math_scores_by_grade.head()"
   ]
  },
  {
   "cell_type": "code",
   "execution_count": 273,
   "metadata": {},
   "outputs": [
    {
     "output_type": "execute_result",
     "data": {
      "text/plain": [
       "                        9th   10th   11th   12th\n",
       "Bailey High School    81.30  80.91  80.95  80.91\n",
       "Cabrera High School   83.68  84.25  83.79  84.29\n",
       "Figueroa High School  81.20  81.41  80.64  81.38\n",
       "Ford High School      80.63  81.26  80.40  80.66\n",
       "Griffin High School   83.37  83.71  84.29  84.01"
      ],
      "text/html": "<div>\n<style scoped>\n    .dataframe tbody tr th:only-of-type {\n        vertical-align: middle;\n    }\n\n    .dataframe tbody tr th {\n        vertical-align: top;\n    }\n\n    .dataframe thead th {\n        text-align: right;\n    }\n</style>\n<table border=\"1\" class=\"dataframe\">\n  <thead>\n    <tr style=\"text-align: right;\">\n      <th></th>\n      <th>9th</th>\n      <th>10th</th>\n      <th>11th</th>\n      <th>12th</th>\n    </tr>\n  </thead>\n  <tbody>\n    <tr>\n      <th>Bailey High School</th>\n      <td>81.30</td>\n      <td>80.91</td>\n      <td>80.95</td>\n      <td>80.91</td>\n    </tr>\n    <tr>\n      <th>Cabrera High School</th>\n      <td>83.68</td>\n      <td>84.25</td>\n      <td>83.79</td>\n      <td>84.29</td>\n    </tr>\n    <tr>\n      <th>Figueroa High School</th>\n      <td>81.20</td>\n      <td>81.41</td>\n      <td>80.64</td>\n      <td>81.38</td>\n    </tr>\n    <tr>\n      <th>Ford High School</th>\n      <td>80.63</td>\n      <td>81.26</td>\n      <td>80.40</td>\n      <td>80.66</td>\n    </tr>\n    <tr>\n      <th>Griffin High School</th>\n      <td>83.37</td>\n      <td>83.71</td>\n      <td>84.29</td>\n      <td>84.01</td>\n    </tr>\n  </tbody>\n</table>\n</div>"
     },
     "metadata": {},
     "execution_count": 273
    }
   ],
   "source": [
    "# READING SCORES BY GRADE\n",
    "\n",
    "# can use MATH SCORES BY GRADE series for each grade using conditional statements\n",
    "\n",
    "# group each grade series by school and get avg reading score\n",
    "ninth_grade_read = ninth_grade.groupby(['school_name']).mean()['reading_score']\n",
    "tenth_grade_read = tenth_grade.groupby(['school_name']).mean()['reading_score']\n",
    "eleventh_grade_read = eleventh_grade.groupby(['school_name']).mean()['reading_score']\n",
    "twelfth_grade_read = twelfth_grade.groupby(['school_name']).mean()['reading_score']\n",
    "\n",
    "# create the DataFrame\n",
    "read_scores_by_grade = pd.DataFrame({\n",
    "    \"9th\": ninth_grade_read,\n",
    "    \"10th\": tenth_grade_read,\n",
    "    \"11th\": eleventh_grade_read,\n",
    "    \"12th\": twelfth_grade_read\n",
    "    }\n",
    ")\n",
    "\n",
    "# format the DataFrame\n",
    "read_scores_by_grade[\"9th\"] = read_scores_by_grade[\"9th\"].map(\"{:.2f}\".format)\n",
    "read_scores_by_grade[\"10th\"] = read_scores_by_grade[\"10th\"].map(\"{:.2f}\".format)\n",
    "read_scores_by_grade[\"11th\"] = read_scores_by_grade[\"11th\"].map(\"{:.2f}\".format)\n",
    "read_scores_by_grade[\"12th\"] = read_scores_by_grade[\"12th\"].map(\"{:.2f}\".format)\n",
    "\n",
    "# remove Index title school_name\n",
    "read_scores_by_grade.index.name = None\n",
    "\n",
    "read_scores_by_grade.head()"
   ]
  },
  {
   "cell_type": "code",
   "execution_count": 274,
   "metadata": {},
   "outputs": [
    {
     "output_type": "execute_result",
     "data": {
      "text/plain": [
       "                      School Type Total Students Total School Budget  \\\n",
       "Rodriguez High School    District          3,999       $2,547,363.00   \n",
       "Figueroa High School     District          2,949       $1,884,411.00   \n",
       "Hernandez High School    District          4,635       $3,022,020.00   \n",
       "Huang High School        District          2,917       $1,910,635.00   \n",
       "Johnson High School      District          4,761       $3,094,650.00   \n",
       "Ford High School         District          2,739       $1,763,916.00   \n",
       "Bailey High School       District          4,976       $3,124,928.00   \n",
       "Holden High School        Charter            427         $248,087.00   \n",
       "Shelton High School       Charter          1,761       $1,056,600.00   \n",
       "Wright High School        Charter          1,800       $1,049,400.00   \n",
       "Pena High School          Charter            962         $585,858.00   \n",
       "Griffin High School       Charter          1,468         $917,500.00   \n",
       "Wilson High School        Charter          2,283       $1,319,574.00   \n",
       "Thomas High School        Charter          1,635       $1,043,130.00   \n",
       "Cabrera High School       Charter          1,858       $1,081,356.00   \n",
       "\n",
       "                      Per Student Budget Average Math Score  \\\n",
       "Rodriguez High School            $637.00                 77   \n",
       "Figueroa High School             $639.00                 77   \n",
       "Hernandez High School            $652.00                 77   \n",
       "Huang High School                $655.00                 77   \n",
       "Johnson High School              $650.00                 77   \n",
       "Ford High School                 $644.00                 77   \n",
       "Bailey High School               $628.00                 77   \n",
       "Holden High School               $581.00                 84   \n",
       "Shelton High School              $600.00                 83   \n",
       "Wright High School               $583.00                 84   \n",
       "Pena High School                 $609.00                 84   \n",
       "Griffin High School              $625.00                 83   \n",
       "Wilson High School               $578.00                 83   \n",
       "Thomas High School               $638.00                 83   \n",
       "Cabrera High School              $582.00                 83   \n",
       "\n",
       "                      Average Reading Score % Passing Math % Passing Reading  \\\n",
       "Rodriguez High School                    81          66.4%             80.2%   \n",
       "Figueroa High School                     81          66.0%             80.7%   \n",
       "Hernandez High School                    81          66.8%             80.9%   \n",
       "Huang High School                        81          65.7%             81.3%   \n",
       "Johnson High School                      81          66.1%             81.2%   \n",
       "Ford High School                         81          68.3%             79.3%   \n",
       "Bailey High School                       81          66.7%             81.9%   \n",
       "Holden High School                       84          92.5%             96.3%   \n",
       "Shelton High School                      84          93.9%             95.9%   \n",
       "Wright High School                       84          93.3%             96.6%   \n",
       "Pena High School                         84          94.6%             95.9%   \n",
       "Griffin High School                      84          93.4%             97.1%   \n",
       "Wilson High School                       84          93.9%             96.5%   \n",
       "Thomas High School                       84          93.3%             97.3%   \n",
       "Cabrera High School                      84          94.1%             97.0%   \n",
       "\n",
       "                      % Overall Passing Spending Ranges (Per Student)  \n",
       "Rodriguez High School             53.0%                      $630-645  \n",
       "Figueroa High School              53.2%                      $630-645  \n",
       "Hernandez High School             53.5%                      $645-680  \n",
       "Huang High School                 53.5%                      $645-680  \n",
       "Johnson High School               53.5%                      $645-680  \n",
       "Ford High School                  54.3%                      $630-645  \n",
       "Bailey High School                54.6%                      $585-630  \n",
       "Holden High School                89.2%                         <$585  \n",
       "Shelton High School               89.9%                      $585-630  \n",
       "Wright High School                90.3%                         <$585  \n",
       "Pena High School                  90.5%                      $585-630  \n",
       "Griffin High School               90.6%                      $585-630  \n",
       "Wilson High School                90.6%                         <$585  \n",
       "Thomas High School                90.9%                      $630-645  \n",
       "Cabrera High School               91.3%                         <$585  "
      ],
      "text/html": "<div>\n<style scoped>\n    .dataframe tbody tr th:only-of-type {\n        vertical-align: middle;\n    }\n\n    .dataframe tbody tr th {\n        vertical-align: top;\n    }\n\n    .dataframe thead th {\n        text-align: right;\n    }\n</style>\n<table border=\"1\" class=\"dataframe\">\n  <thead>\n    <tr style=\"text-align: right;\">\n      <th></th>\n      <th>School Type</th>\n      <th>Total Students</th>\n      <th>Total School Budget</th>\n      <th>Per Student Budget</th>\n      <th>Average Math Score</th>\n      <th>Average Reading Score</th>\n      <th>% Passing Math</th>\n      <th>% Passing Reading</th>\n      <th>% Overall Passing</th>\n      <th>Spending Ranges (Per Student)</th>\n    </tr>\n  </thead>\n  <tbody>\n    <tr>\n      <th>Rodriguez High School</th>\n      <td>District</td>\n      <td>3,999</td>\n      <td>$2,547,363.00</td>\n      <td>$637.00</td>\n      <td>77</td>\n      <td>81</td>\n      <td>66.4%</td>\n      <td>80.2%</td>\n      <td>53.0%</td>\n      <td>$630-645</td>\n    </tr>\n    <tr>\n      <th>Figueroa High School</th>\n      <td>District</td>\n      <td>2,949</td>\n      <td>$1,884,411.00</td>\n      <td>$639.00</td>\n      <td>77</td>\n      <td>81</td>\n      <td>66.0%</td>\n      <td>80.7%</td>\n      <td>53.2%</td>\n      <td>$630-645</td>\n    </tr>\n    <tr>\n      <th>Hernandez High School</th>\n      <td>District</td>\n      <td>4,635</td>\n      <td>$3,022,020.00</td>\n      <td>$652.00</td>\n      <td>77</td>\n      <td>81</td>\n      <td>66.8%</td>\n      <td>80.9%</td>\n      <td>53.5%</td>\n      <td>$645-680</td>\n    </tr>\n    <tr>\n      <th>Huang High School</th>\n      <td>District</td>\n      <td>2,917</td>\n      <td>$1,910,635.00</td>\n      <td>$655.00</td>\n      <td>77</td>\n      <td>81</td>\n      <td>65.7%</td>\n      <td>81.3%</td>\n      <td>53.5%</td>\n      <td>$645-680</td>\n    </tr>\n    <tr>\n      <th>Johnson High School</th>\n      <td>District</td>\n      <td>4,761</td>\n      <td>$3,094,650.00</td>\n      <td>$650.00</td>\n      <td>77</td>\n      <td>81</td>\n      <td>66.1%</td>\n      <td>81.2%</td>\n      <td>53.5%</td>\n      <td>$645-680</td>\n    </tr>\n    <tr>\n      <th>Ford High School</th>\n      <td>District</td>\n      <td>2,739</td>\n      <td>$1,763,916.00</td>\n      <td>$644.00</td>\n      <td>77</td>\n      <td>81</td>\n      <td>68.3%</td>\n      <td>79.3%</td>\n      <td>54.3%</td>\n      <td>$630-645</td>\n    </tr>\n    <tr>\n      <th>Bailey High School</th>\n      <td>District</td>\n      <td>4,976</td>\n      <td>$3,124,928.00</td>\n      <td>$628.00</td>\n      <td>77</td>\n      <td>81</td>\n      <td>66.7%</td>\n      <td>81.9%</td>\n      <td>54.6%</td>\n      <td>$585-630</td>\n    </tr>\n    <tr>\n      <th>Holden High School</th>\n      <td>Charter</td>\n      <td>427</td>\n      <td>$248,087.00</td>\n      <td>$581.00</td>\n      <td>84</td>\n      <td>84</td>\n      <td>92.5%</td>\n      <td>96.3%</td>\n      <td>89.2%</td>\n      <td>&lt;$585</td>\n    </tr>\n    <tr>\n      <th>Shelton High School</th>\n      <td>Charter</td>\n      <td>1,761</td>\n      <td>$1,056,600.00</td>\n      <td>$600.00</td>\n      <td>83</td>\n      <td>84</td>\n      <td>93.9%</td>\n      <td>95.9%</td>\n      <td>89.9%</td>\n      <td>$585-630</td>\n    </tr>\n    <tr>\n      <th>Wright High School</th>\n      <td>Charter</td>\n      <td>1,800</td>\n      <td>$1,049,400.00</td>\n      <td>$583.00</td>\n      <td>84</td>\n      <td>84</td>\n      <td>93.3%</td>\n      <td>96.6%</td>\n      <td>90.3%</td>\n      <td>&lt;$585</td>\n    </tr>\n    <tr>\n      <th>Pena High School</th>\n      <td>Charter</td>\n      <td>962</td>\n      <td>$585,858.00</td>\n      <td>$609.00</td>\n      <td>84</td>\n      <td>84</td>\n      <td>94.6%</td>\n      <td>95.9%</td>\n      <td>90.5%</td>\n      <td>$585-630</td>\n    </tr>\n    <tr>\n      <th>Griffin High School</th>\n      <td>Charter</td>\n      <td>1,468</td>\n      <td>$917,500.00</td>\n      <td>$625.00</td>\n      <td>83</td>\n      <td>84</td>\n      <td>93.4%</td>\n      <td>97.1%</td>\n      <td>90.6%</td>\n      <td>$585-630</td>\n    </tr>\n    <tr>\n      <th>Wilson High School</th>\n      <td>Charter</td>\n      <td>2,283</td>\n      <td>$1,319,574.00</td>\n      <td>$578.00</td>\n      <td>83</td>\n      <td>84</td>\n      <td>93.9%</td>\n      <td>96.5%</td>\n      <td>90.6%</td>\n      <td>&lt;$585</td>\n    </tr>\n    <tr>\n      <th>Thomas High School</th>\n      <td>Charter</td>\n      <td>1,635</td>\n      <td>$1,043,130.00</td>\n      <td>$638.00</td>\n      <td>83</td>\n      <td>84</td>\n      <td>93.3%</td>\n      <td>97.3%</td>\n      <td>90.9%</td>\n      <td>$630-645</td>\n    </tr>\n    <tr>\n      <th>Cabrera High School</th>\n      <td>Charter</td>\n      <td>1,858</td>\n      <td>$1,081,356.00</td>\n      <td>$582.00</td>\n      <td>83</td>\n      <td>84</td>\n      <td>94.1%</td>\n      <td>97.0%</td>\n      <td>91.3%</td>\n      <td>&lt;$585</td>\n    </tr>\n  </tbody>\n</table>\n</div>"
     },
     "metadata": {},
     "execution_count": 274
    }
   ],
   "source": [
    "# SCORES BY SCHOOL SPENDING\n",
    "\n",
    "# DataFrame reference --> school_summary_df\n",
    "# Budget/student reference --> student_budget = school_budget / student_count\n",
    "\n",
    "# create the spending bins and names\n",
    "spending_bins = [0, 584, 629, 644, 680]\n",
    "bin_names = ['<$585', '$585-630', '$630-645', '$645-680']\n",
    "\n",
    "# add the spending bins/groups to the DataFrame\n",
    "school_summary_df['Spending Ranges (Per Student)'] = pd.cut(student_budget, spending_bins, labels=bin_names)\n",
    "school_summary_df"
   ]
  },
  {
   "cell_type": "code",
   "execution_count": 275,
   "metadata": {},
   "outputs": [
    {
     "output_type": "stream",
     "name": "stdout",
     "text": [
      "SCORES BY SCHOOL SPENDING\n"
     ]
    },
    {
     "output_type": "execute_result",
     "data": {
      "text/plain": [
       "                              Average Math Score Average Reading Score  \\\n",
       "Spending Ranges (Per Student)                                            \n",
       "<$585                                      83.50                 84.00   \n",
       "$585-630                                   81.75                 83.25   \n",
       "$630-645                                   78.50                 81.75   \n",
       "$645-680                                   77.00                 81.00   \n",
       "\n",
       "                              % Passing Math % Passing Reading  \\\n",
       "Spending Ranges (Per Student)                                    \n",
       "<$585                                 93.45%            96.60%   \n",
       "$585-630                              87.15%            92.70%   \n",
       "$630-645                              73.50%            84.38%   \n",
       "$645-680                              66.20%            81.13%   \n",
       "\n",
       "                              % Overall Passing  \n",
       "Spending Ranges (Per Student)                    \n",
       "<$585                                    90.35%  \n",
       "$585-630                                 81.40%  \n",
       "$630-645                                 62.85%  \n",
       "$645-680                                 53.50%  "
      ],
      "text/html": "<div>\n<style scoped>\n    .dataframe tbody tr th:only-of-type {\n        vertical-align: middle;\n    }\n\n    .dataframe tbody tr th {\n        vertical-align: top;\n    }\n\n    .dataframe thead th {\n        text-align: right;\n    }\n</style>\n<table border=\"1\" class=\"dataframe\">\n  <thead>\n    <tr style=\"text-align: right;\">\n      <th></th>\n      <th>Average Math Score</th>\n      <th>Average Reading Score</th>\n      <th>% Passing Math</th>\n      <th>% Passing Reading</th>\n      <th>% Overall Passing</th>\n    </tr>\n    <tr>\n      <th>Spending Ranges (Per Student)</th>\n      <th></th>\n      <th></th>\n      <th></th>\n      <th></th>\n      <th></th>\n    </tr>\n  </thead>\n  <tbody>\n    <tr>\n      <th>&lt;$585</th>\n      <td>83.50</td>\n      <td>84.00</td>\n      <td>93.45%</td>\n      <td>96.60%</td>\n      <td>90.35%</td>\n    </tr>\n    <tr>\n      <th>$585-630</th>\n      <td>81.75</td>\n      <td>83.25</td>\n      <td>87.15%</td>\n      <td>92.70%</td>\n      <td>81.40%</td>\n    </tr>\n    <tr>\n      <th>$630-645</th>\n      <td>78.50</td>\n      <td>81.75</td>\n      <td>73.50%</td>\n      <td>84.38%</td>\n      <td>62.85%</td>\n    </tr>\n    <tr>\n      <th>$645-680</th>\n      <td>77.00</td>\n      <td>81.00</td>\n      <td>66.20%</td>\n      <td>81.13%</td>\n      <td>53.50%</td>\n    </tr>\n  </tbody>\n</table>\n</div>"
     },
     "metadata": {},
     "execution_count": 275
    }
   ],
   "source": [
    "# group DataFrame by spending range and get math and read score, and % pass averages\n",
    "\n",
    "# assign the dtype to below variables to calculate average/mean\n",
    "# --> found how to remove % on stack overflow\n",
    "school_summary_df['Average Math Score'] = school_summary_df['Average Math Score'].astype(int)\n",
    "school_summary_df['Average Reading Score'] = school_summary_df['Average Reading Score'].astype(int)\n",
    "school_summary_df['% Passing Math'] = school_summary_df['% Passing Math'].str.rstrip('%').astype(float)\n",
    "school_summary_df['% Passing Reading'] = school_summary_df['% Passing Reading'].str.rstrip('%').astype(float)\n",
    "school_summary_df['% Overall Passing'] = school_summary_df['% Overall Passing'].str.rstrip('%').astype(float)\n",
    "\n",
    "# group series by Spending Range and get averages of columns\n",
    "school_spend_math = school_summary_df.groupby(['Spending Ranges (Per Student)']).mean()['Average Math Score']\n",
    "school_spend_read = school_summary_df.groupby(['Spending Ranges (Per Student)']).mean()['Average Reading Score']\n",
    "school_spend_pass_math = school_summary_df.groupby(['Spending Ranges (Per Student)']).mean()['% Passing Math']\n",
    "school_spend_pass_read = school_summary_df.groupby(['Spending Ranges (Per Student)']).mean()['% Passing Reading']\n",
    "school_spend_pass_both = school_summary_df.groupby(['Spending Ranges (Per Student)']).mean()['% Overall Passing']\n",
    "\n",
    "# create the DataFrame\n",
    "school_spending_df = pd.DataFrame({\n",
    "    \"Average Math Score\": school_spend_math,\n",
    "    \"Average Reading Score\": school_spend_read,\n",
    "    \"% Passing Math\": school_spend_pass_math,\n",
    "    \"% Passing Reading\": school_spend_pass_read,\n",
    "    \"% Overall Passing\": school_spend_pass_both\n",
    "})\n",
    "\n",
    "# format the DataFrame\n",
    "school_spending_df[\"Average Math Score\"] = school_spending_df[\"Average Math Score\"].map(\"{:.2f}\".format)\n",
    "school_spending_df[\"Average Reading Score\"] = school_spending_df[\"Average Reading Score\"].map(\"{:.2f}\".format)\n",
    "school_spending_df[\"% Passing Math\"] = school_spending_df[\"% Passing Math\"].map(\"{:.2f}%\".format)\n",
    "school_spending_df[\"% Passing Reading\"] = school_spending_df[\"% Passing Reading\"].map(\"{:.2f}%\".format)\n",
    "school_spending_df[\"% Overall Passing\"] = school_spending_df[\"% Overall Passing\"].map(\"{:.2f}%\".format)\n",
    "\n",
    "print('SCORES BY SCHOOL SPENDING')\n",
    "school_spending_df"
   ]
  },
  {
   "cell_type": "code",
   "execution_count": 276,
   "metadata": {},
   "outputs": [
    {
     "output_type": "execute_result",
     "data": {
      "text/plain": [
       "                      School Type Total Students Total School Budget  \\\n",
       "Rodriguez High School    District          3,999       $2,547,363.00   \n",
       "Figueroa High School     District          2,949       $1,884,411.00   \n",
       "Hernandez High School    District          4,635       $3,022,020.00   \n",
       "Huang High School        District          2,917       $1,910,635.00   \n",
       "Johnson High School      District          4,761       $3,094,650.00   \n",
       "Ford High School         District          2,739       $1,763,916.00   \n",
       "Bailey High School       District          4,976       $3,124,928.00   \n",
       "Holden High School        Charter            427         $248,087.00   \n",
       "Shelton High School       Charter          1,761       $1,056,600.00   \n",
       "Wright High School        Charter          1,800       $1,049,400.00   \n",
       "Pena High School          Charter            962         $585,858.00   \n",
       "Griffin High School       Charter          1,468         $917,500.00   \n",
       "Wilson High School        Charter          2,283       $1,319,574.00   \n",
       "Thomas High School        Charter          1,635       $1,043,130.00   \n",
       "Cabrera High School       Charter          1,858       $1,081,356.00   \n",
       "\n",
       "                      Per Student Budget  Average Math Score  \\\n",
       "Rodriguez High School            $637.00                  77   \n",
       "Figueroa High School             $639.00                  77   \n",
       "Hernandez High School            $652.00                  77   \n",
       "Huang High School                $655.00                  77   \n",
       "Johnson High School              $650.00                  77   \n",
       "Ford High School                 $644.00                  77   \n",
       "Bailey High School               $628.00                  77   \n",
       "Holden High School               $581.00                  84   \n",
       "Shelton High School              $600.00                  83   \n",
       "Wright High School               $583.00                  84   \n",
       "Pena High School                 $609.00                  84   \n",
       "Griffin High School              $625.00                  83   \n",
       "Wilson High School               $578.00                  83   \n",
       "Thomas High School               $638.00                  83   \n",
       "Cabrera High School              $582.00                  83   \n",
       "\n",
       "                       Average Reading Score  % Passing Math  \\\n",
       "Rodriguez High School                     81            66.4   \n",
       "Figueroa High School                      81            66.0   \n",
       "Hernandez High School                     81            66.8   \n",
       "Huang High School                         81            65.7   \n",
       "Johnson High School                       81            66.1   \n",
       "Ford High School                          81            68.3   \n",
       "Bailey High School                        81            66.7   \n",
       "Holden High School                        84            92.5   \n",
       "Shelton High School                       84            93.9   \n",
       "Wright High School                        84            93.3   \n",
       "Pena High School                          84            94.6   \n",
       "Griffin High School                       84            93.4   \n",
       "Wilson High School                        84            93.9   \n",
       "Thomas High School                        84            93.3   \n",
       "Cabrera High School                       84            94.1   \n",
       "\n",
       "                       % Passing Reading  % Overall Passing  \\\n",
       "Rodriguez High School               80.2               53.0   \n",
       "Figueroa High School                80.7               53.2   \n",
       "Hernandez High School               80.9               53.5   \n",
       "Huang High School                   81.3               53.5   \n",
       "Johnson High School                 81.2               53.5   \n",
       "Ford High School                    79.3               54.3   \n",
       "Bailey High School                  81.9               54.6   \n",
       "Holden High School                  96.3               89.2   \n",
       "Shelton High School                 95.9               89.9   \n",
       "Wright High School                  96.6               90.3   \n",
       "Pena High School                    95.9               90.5   \n",
       "Griffin High School                 97.1               90.6   \n",
       "Wilson High School                  96.5               90.6   \n",
       "Thomas High School                  97.3               90.9   \n",
       "Cabrera High School                 97.0               91.3   \n",
       "\n",
       "                      Spending Ranges (Per Student)         School Size  \n",
       "Rodriguez High School                      $630-645   Large (2000-5000)  \n",
       "Figueroa High School                       $630-645   Large (2000-5000)  \n",
       "Hernandez High School                      $645-680   Large (2000-5000)  \n",
       "Huang High School                          $645-680   Large (2000-5000)  \n",
       "Johnson High School                        $645-680   Large (2000-5000)  \n",
       "Ford High School                           $630-645   Large (2000-5000)  \n",
       "Bailey High School                         $585-630   Large (2000-5000)  \n",
       "Holden High School                            <$585       Small (<1000)  \n",
       "Shelton High School                        $585-630  Medium (1000-2000)  \n",
       "Wright High School                            <$585  Medium (1000-2000)  \n",
       "Pena High School                           $585-630       Small (<1000)  \n",
       "Griffin High School                        $585-630  Medium (1000-2000)  \n",
       "Wilson High School                            <$585   Large (2000-5000)  \n",
       "Thomas High School                         $630-645  Medium (1000-2000)  \n",
       "Cabrera High School                           <$585  Medium (1000-2000)  "
      ],
      "text/html": "<div>\n<style scoped>\n    .dataframe tbody tr th:only-of-type {\n        vertical-align: middle;\n    }\n\n    .dataframe tbody tr th {\n        vertical-align: top;\n    }\n\n    .dataframe thead th {\n        text-align: right;\n    }\n</style>\n<table border=\"1\" class=\"dataframe\">\n  <thead>\n    <tr style=\"text-align: right;\">\n      <th></th>\n      <th>School Type</th>\n      <th>Total Students</th>\n      <th>Total School Budget</th>\n      <th>Per Student Budget</th>\n      <th>Average Math Score</th>\n      <th>Average Reading Score</th>\n      <th>% Passing Math</th>\n      <th>% Passing Reading</th>\n      <th>% Overall Passing</th>\n      <th>Spending Ranges (Per Student)</th>\n      <th>School Size</th>\n    </tr>\n  </thead>\n  <tbody>\n    <tr>\n      <th>Rodriguez High School</th>\n      <td>District</td>\n      <td>3,999</td>\n      <td>$2,547,363.00</td>\n      <td>$637.00</td>\n      <td>77</td>\n      <td>81</td>\n      <td>66.4</td>\n      <td>80.2</td>\n      <td>53.0</td>\n      <td>$630-645</td>\n      <td>Large (2000-5000)</td>\n    </tr>\n    <tr>\n      <th>Figueroa High School</th>\n      <td>District</td>\n      <td>2,949</td>\n      <td>$1,884,411.00</td>\n      <td>$639.00</td>\n      <td>77</td>\n      <td>81</td>\n      <td>66.0</td>\n      <td>80.7</td>\n      <td>53.2</td>\n      <td>$630-645</td>\n      <td>Large (2000-5000)</td>\n    </tr>\n    <tr>\n      <th>Hernandez High School</th>\n      <td>District</td>\n      <td>4,635</td>\n      <td>$3,022,020.00</td>\n      <td>$652.00</td>\n      <td>77</td>\n      <td>81</td>\n      <td>66.8</td>\n      <td>80.9</td>\n      <td>53.5</td>\n      <td>$645-680</td>\n      <td>Large (2000-5000)</td>\n    </tr>\n    <tr>\n      <th>Huang High School</th>\n      <td>District</td>\n      <td>2,917</td>\n      <td>$1,910,635.00</td>\n      <td>$655.00</td>\n      <td>77</td>\n      <td>81</td>\n      <td>65.7</td>\n      <td>81.3</td>\n      <td>53.5</td>\n      <td>$645-680</td>\n      <td>Large (2000-5000)</td>\n    </tr>\n    <tr>\n      <th>Johnson High School</th>\n      <td>District</td>\n      <td>4,761</td>\n      <td>$3,094,650.00</td>\n      <td>$650.00</td>\n      <td>77</td>\n      <td>81</td>\n      <td>66.1</td>\n      <td>81.2</td>\n      <td>53.5</td>\n      <td>$645-680</td>\n      <td>Large (2000-5000)</td>\n    </tr>\n    <tr>\n      <th>Ford High School</th>\n      <td>District</td>\n      <td>2,739</td>\n      <td>$1,763,916.00</td>\n      <td>$644.00</td>\n      <td>77</td>\n      <td>81</td>\n      <td>68.3</td>\n      <td>79.3</td>\n      <td>54.3</td>\n      <td>$630-645</td>\n      <td>Large (2000-5000)</td>\n    </tr>\n    <tr>\n      <th>Bailey High School</th>\n      <td>District</td>\n      <td>4,976</td>\n      <td>$3,124,928.00</td>\n      <td>$628.00</td>\n      <td>77</td>\n      <td>81</td>\n      <td>66.7</td>\n      <td>81.9</td>\n      <td>54.6</td>\n      <td>$585-630</td>\n      <td>Large (2000-5000)</td>\n    </tr>\n    <tr>\n      <th>Holden High School</th>\n      <td>Charter</td>\n      <td>427</td>\n      <td>$248,087.00</td>\n      <td>$581.00</td>\n      <td>84</td>\n      <td>84</td>\n      <td>92.5</td>\n      <td>96.3</td>\n      <td>89.2</td>\n      <td>&lt;$585</td>\n      <td>Small (&lt;1000)</td>\n    </tr>\n    <tr>\n      <th>Shelton High School</th>\n      <td>Charter</td>\n      <td>1,761</td>\n      <td>$1,056,600.00</td>\n      <td>$600.00</td>\n      <td>83</td>\n      <td>84</td>\n      <td>93.9</td>\n      <td>95.9</td>\n      <td>89.9</td>\n      <td>$585-630</td>\n      <td>Medium (1000-2000)</td>\n    </tr>\n    <tr>\n      <th>Wright High School</th>\n      <td>Charter</td>\n      <td>1,800</td>\n      <td>$1,049,400.00</td>\n      <td>$583.00</td>\n      <td>84</td>\n      <td>84</td>\n      <td>93.3</td>\n      <td>96.6</td>\n      <td>90.3</td>\n      <td>&lt;$585</td>\n      <td>Medium (1000-2000)</td>\n    </tr>\n    <tr>\n      <th>Pena High School</th>\n      <td>Charter</td>\n      <td>962</td>\n      <td>$585,858.00</td>\n      <td>$609.00</td>\n      <td>84</td>\n      <td>84</td>\n      <td>94.6</td>\n      <td>95.9</td>\n      <td>90.5</td>\n      <td>$585-630</td>\n      <td>Small (&lt;1000)</td>\n    </tr>\n    <tr>\n      <th>Griffin High School</th>\n      <td>Charter</td>\n      <td>1,468</td>\n      <td>$917,500.00</td>\n      <td>$625.00</td>\n      <td>83</td>\n      <td>84</td>\n      <td>93.4</td>\n      <td>97.1</td>\n      <td>90.6</td>\n      <td>$585-630</td>\n      <td>Medium (1000-2000)</td>\n    </tr>\n    <tr>\n      <th>Wilson High School</th>\n      <td>Charter</td>\n      <td>2,283</td>\n      <td>$1,319,574.00</td>\n      <td>$578.00</td>\n      <td>83</td>\n      <td>84</td>\n      <td>93.9</td>\n      <td>96.5</td>\n      <td>90.6</td>\n      <td>&lt;$585</td>\n      <td>Large (2000-5000)</td>\n    </tr>\n    <tr>\n      <th>Thomas High School</th>\n      <td>Charter</td>\n      <td>1,635</td>\n      <td>$1,043,130.00</td>\n      <td>$638.00</td>\n      <td>83</td>\n      <td>84</td>\n      <td>93.3</td>\n      <td>97.3</td>\n      <td>90.9</td>\n      <td>$630-645</td>\n      <td>Medium (1000-2000)</td>\n    </tr>\n    <tr>\n      <th>Cabrera High School</th>\n      <td>Charter</td>\n      <td>1,858</td>\n      <td>$1,081,356.00</td>\n      <td>$582.00</td>\n      <td>83</td>\n      <td>84</td>\n      <td>94.1</td>\n      <td>97.0</td>\n      <td>91.3</td>\n      <td>&lt;$585</td>\n      <td>Medium (1000-2000)</td>\n    </tr>\n  </tbody>\n</table>\n</div>"
     },
     "metadata": {},
     "execution_count": 276
    }
   ],
   "source": [
    "# SCORES BY SCHOOL SIZE\n",
    "\n",
    "# DataFrame reference --> school_summary_df\n",
    "# Student count reference --> student_count = school_data_all_df['school_name'].value_counts() \n",
    "\n",
    "# create the spending bins and names\n",
    "size_bins = [0, 999, 1999, 5000]\n",
    "size_bin_names = ['Small (<1000)', 'Medium (1000-2000)', 'Large (2000-5000)']\n",
    "\n",
    "# add the spending bins/groups to the DataFrame\n",
    "school_summary_df['School Size'] = pd.cut(student_count, size_bins, labels=size_bin_names)\n",
    "school_summary_df"
   ]
  },
  {
   "cell_type": "code",
   "execution_count": 277,
   "metadata": {},
   "outputs": [
    {
     "output_type": "stream",
     "name": "stdout",
     "text": [
      "SCORES BY SCHOOL SIZE\n"
     ]
    },
    {
     "output_type": "execute_result",
     "data": {
      "text/plain": [
       "                   Average Math Score Average Reading Score % Passing Math  \\\n",
       "School Size                                                                  \n",
       "Small (<1000)                   84.00                 84.00         93.55%   \n",
       "Medium (1000-2000)              83.20                 84.00         93.60%   \n",
       "Large (2000-5000)               77.75                 81.38         69.99%   \n",
       "\n",
       "                   % Passing Reading % Overall Passing  \n",
       "School Size                                             \n",
       "Small (<1000)                 96.10%            89.85%  \n",
       "Medium (1000-2000)            96.78%            90.60%  \n",
       "Large (2000-5000)             82.75%            58.28%  "
      ],
      "text/html": "<div>\n<style scoped>\n    .dataframe tbody tr th:only-of-type {\n        vertical-align: middle;\n    }\n\n    .dataframe tbody tr th {\n        vertical-align: top;\n    }\n\n    .dataframe thead th {\n        text-align: right;\n    }\n</style>\n<table border=\"1\" class=\"dataframe\">\n  <thead>\n    <tr style=\"text-align: right;\">\n      <th></th>\n      <th>Average Math Score</th>\n      <th>Average Reading Score</th>\n      <th>% Passing Math</th>\n      <th>% Passing Reading</th>\n      <th>% Overall Passing</th>\n    </tr>\n    <tr>\n      <th>School Size</th>\n      <th></th>\n      <th></th>\n      <th></th>\n      <th></th>\n      <th></th>\n    </tr>\n  </thead>\n  <tbody>\n    <tr>\n      <th>Small (&lt;1000)</th>\n      <td>84.00</td>\n      <td>84.00</td>\n      <td>93.55%</td>\n      <td>96.10%</td>\n      <td>89.85%</td>\n    </tr>\n    <tr>\n      <th>Medium (1000-2000)</th>\n      <td>83.20</td>\n      <td>84.00</td>\n      <td>93.60%</td>\n      <td>96.78%</td>\n      <td>90.60%</td>\n    </tr>\n    <tr>\n      <th>Large (2000-5000)</th>\n      <td>77.75</td>\n      <td>81.38</td>\n      <td>69.99%</td>\n      <td>82.75%</td>\n      <td>58.28%</td>\n    </tr>\n  </tbody>\n</table>\n</div>"
     },
     "metadata": {},
     "execution_count": 277
    }
   ],
   "source": [
    "# group DataFrame by spending range and get math and read score, and % pass averages\n",
    "\n",
    "# dtype for variables to calculate average/mean remains same as with SCORES BY SCHOOL SPENDING\n",
    "\n",
    "# group series by School Size and get averages of columns\n",
    "school_size_math = school_summary_df.groupby(['School Size']).mean()['Average Math Score']\n",
    "school_size_read = school_summary_df.groupby(['School Size']).mean()['Average Reading Score']\n",
    "school_size_pass_math = school_summary_df.groupby(['School Size']).mean()['% Passing Math']\n",
    "school_size_pass_read = school_summary_df.groupby(['School Size']).mean()['% Passing Reading']\n",
    "school_size_pass_both = school_summary_df.groupby(['School Size']).mean()['% Overall Passing']\n",
    "\n",
    "# create the DataFrame\n",
    "school_size_df = pd.DataFrame({\n",
    "    \"Average Math Score\": school_size_math,\n",
    "    \"Average Reading Score\": school_size_read,\n",
    "    \"% Passing Math\": school_size_pass_math,\n",
    "    \"% Passing Reading\": school_size_pass_read,\n",
    "    \"% Overall Passing\": school_size_pass_both\n",
    "})\n",
    "\n",
    "# format the DataFrame\n",
    "school_size_df[\"Average Math Score\"] = school_size_df[\"Average Math Score\"].map(\"{:.2f}\".format)\n",
    "school_size_df[\"Average Reading Score\"] = school_size_df[\"Average Reading Score\"].map(\"{:.2f}\".format)\n",
    "school_size_df[\"% Passing Math\"] = school_size_df[\"% Passing Math\"].map(\"{:.2f}%\".format)\n",
    "school_size_df[\"% Passing Reading\"] = school_size_df[\"% Passing Reading\"].map(\"{:.2f}%\".format)\n",
    "school_size_df[\"% Overall Passing\"] = school_size_df[\"% Overall Passing\"].map(\"{:.2f}%\".format)\n",
    "\n",
    "print('SCORES BY SCHOOL SIZE')\n",
    "school_size_df"
   ]
  },
  {
   "cell_type": "code",
   "execution_count": null,
   "metadata": {},
   "outputs": [],
   "source": []
  }
 ],
 "metadata": {
  "anaconda-cloud": {},
  "kernel_info": {
   "name": "python3"
  },
  "kernelspec": {
   "name": "python385jvsc74a57bd0c3371879507128a1f32fcefe84596516d7fbdc8c5d1ce95910e49c97f88263a5",
   "display_name": "Python 3.8.5 64-bit ('base': conda)"
  },
  "language_info": {
   "codemirror_mode": {
    "name": "ipython",
    "version": 3
   },
   "file_extension": ".py",
   "mimetype": "text/x-python",
   "name": "python",
   "nbconvert_exporter": "python",
   "pygments_lexer": "ipython3",
   "version": "3.8.5-final"
  },
  "latex_envs": {
   "LaTeX_envs_menu_present": true,
   "autoclose": false,
   "autocomplete": true,
   "bibliofile": "biblio.bib",
   "cite_by": "apalike",
   "current_citInitial": 1,
   "eqLabelWithNumbers": true,
   "eqNumInitial": 1,
   "hotkeys": {
    "equation": "Ctrl-E",
    "itemize": "Ctrl-I"
   },
   "labels_anchors": false,
   "latex_user_defs": false,
   "report_style_numbering": false,
   "user_envs_cfg": false
  },
  "nteract": {
   "version": "0.8.4"
  }
 },
 "nbformat": 4,
 "nbformat_minor": 1
}