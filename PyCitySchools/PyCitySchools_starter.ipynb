{
 "cells": [
  {
   "cell_type": "code",
   "execution_count": 152,
   "metadata": {},
   "outputs": [
    {
     "output_type": "execute_result",
     "data": {
      "text/plain": [
       "       Student ID       student_name gender grade         school_name  \\\n",
       "0               0       Paul Bradley      M   9th   Huang High School   \n",
       "1               1       Victor Smith      M  12th   Huang High School   \n",
       "2               2    Kevin Rodriguez      M  12th   Huang High School   \n",
       "3               3  Dr. Richard Scott      M  12th   Huang High School   \n",
       "4               4         Bonnie Ray      F   9th   Huang High School   \n",
       "...           ...                ...    ...   ...                 ...   \n",
       "39165       39165       Donna Howard      F  12th  Thomas High School   \n",
       "39166       39166          Dawn Bell      F  10th  Thomas High School   \n",
       "39167       39167     Rebecca Tanner      F   9th  Thomas High School   \n",
       "39168       39168       Desiree Kidd      F  10th  Thomas High School   \n",
       "39169       39169    Carolyn Jackson      F  11th  Thomas High School   \n",
       "\n",
       "       reading_score  math_score  School ID      type  size   budget  \n",
       "0                 66          79          0  District  2917  1910635  \n",
       "1                 94          61          0  District  2917  1910635  \n",
       "2                 90          60          0  District  2917  1910635  \n",
       "3                 67          58          0  District  2917  1910635  \n",
       "4                 97          84          0  District  2917  1910635  \n",
       "...              ...         ...        ...       ...   ...      ...  \n",
       "39165             99          90         14   Charter  1635  1043130  \n",
       "39166             95          70         14   Charter  1635  1043130  \n",
       "39167             73          84         14   Charter  1635  1043130  \n",
       "39168             99          90         14   Charter  1635  1043130  \n",
       "39169             95          75         14   Charter  1635  1043130  \n",
       "\n",
       "[39170 rows x 11 columns]"
      ],
      "text/html": "<div>\n<style scoped>\n    .dataframe tbody tr th:only-of-type {\n        vertical-align: middle;\n    }\n\n    .dataframe tbody tr th {\n        vertical-align: top;\n    }\n\n    .dataframe thead th {\n        text-align: right;\n    }\n</style>\n<table border=\"1\" class=\"dataframe\">\n  <thead>\n    <tr style=\"text-align: right;\">\n      <th></th>\n      <th>Student ID</th>\n      <th>student_name</th>\n      <th>gender</th>\n      <th>grade</th>\n      <th>school_name</th>\n      <th>reading_score</th>\n      <th>math_score</th>\n      <th>School ID</th>\n      <th>type</th>\n      <th>size</th>\n      <th>budget</th>\n    </tr>\n  </thead>\n  <tbody>\n    <tr>\n      <th>0</th>\n      <td>0</td>\n      <td>Paul Bradley</td>\n      <td>M</td>\n      <td>9th</td>\n      <td>Huang High School</td>\n      <td>66</td>\n      <td>79</td>\n      <td>0</td>\n      <td>District</td>\n      <td>2917</td>\n      <td>1910635</td>\n    </tr>\n    <tr>\n      <th>1</th>\n      <td>1</td>\n      <td>Victor Smith</td>\n      <td>M</td>\n      <td>12th</td>\n      <td>Huang High School</td>\n      <td>94</td>\n      <td>61</td>\n      <td>0</td>\n      <td>District</td>\n      <td>2917</td>\n      <td>1910635</td>\n    </tr>\n    <tr>\n      <th>2</th>\n      <td>2</td>\n      <td>Kevin Rodriguez</td>\n      <td>M</td>\n      <td>12th</td>\n      <td>Huang High School</td>\n      <td>90</td>\n      <td>60</td>\n      <td>0</td>\n      <td>District</td>\n      <td>2917</td>\n      <td>1910635</td>\n    </tr>\n    <tr>\n      <th>3</th>\n      <td>3</td>\n      <td>Dr. Richard Scott</td>\n      <td>M</td>\n      <td>12th</td>\n      <td>Huang High School</td>\n      <td>67</td>\n      <td>58</td>\n      <td>0</td>\n      <td>District</td>\n      <td>2917</td>\n      <td>1910635</td>\n    </tr>\n    <tr>\n      <th>4</th>\n      <td>4</td>\n      <td>Bonnie Ray</td>\n      <td>F</td>\n      <td>9th</td>\n      <td>Huang High School</td>\n      <td>97</td>\n      <td>84</td>\n      <td>0</td>\n      <td>District</td>\n      <td>2917</td>\n      <td>1910635</td>\n    </tr>\n    <tr>\n      <th>...</th>\n      <td>...</td>\n      <td>...</td>\n      <td>...</td>\n      <td>...</td>\n      <td>...</td>\n      <td>...</td>\n      <td>...</td>\n      <td>...</td>\n      <td>...</td>\n      <td>...</td>\n      <td>...</td>\n    </tr>\n    <tr>\n      <th>39165</th>\n      <td>39165</td>\n      <td>Donna Howard</td>\n      <td>F</td>\n      <td>12th</td>\n      <td>Thomas High School</td>\n      <td>99</td>\n      <td>90</td>\n      <td>14</td>\n      <td>Charter</td>\n      <td>1635</td>\n      <td>1043130</td>\n    </tr>\n    <tr>\n      <th>39166</th>\n      <td>39166</td>\n      <td>Dawn Bell</td>\n      <td>F</td>\n      <td>10th</td>\n      <td>Thomas High School</td>\n      <td>95</td>\n      <td>70</td>\n      <td>14</td>\n      <td>Charter</td>\n      <td>1635</td>\n      <td>1043130</td>\n    </tr>\n    <tr>\n      <th>39167</th>\n      <td>39167</td>\n      <td>Rebecca Tanner</td>\n      <td>F</td>\n      <td>9th</td>\n      <td>Thomas High School</td>\n      <td>73</td>\n      <td>84</td>\n      <td>14</td>\n      <td>Charter</td>\n      <td>1635</td>\n      <td>1043130</td>\n    </tr>\n    <tr>\n      <th>39168</th>\n      <td>39168</td>\n      <td>Desiree Kidd</td>\n      <td>F</td>\n      <td>10th</td>\n      <td>Thomas High School</td>\n      <td>99</td>\n      <td>90</td>\n      <td>14</td>\n      <td>Charter</td>\n      <td>1635</td>\n      <td>1043130</td>\n    </tr>\n    <tr>\n      <th>39169</th>\n      <td>39169</td>\n      <td>Carolyn Jackson</td>\n      <td>F</td>\n      <td>11th</td>\n      <td>Thomas High School</td>\n      <td>95</td>\n      <td>75</td>\n      <td>14</td>\n      <td>Charter</td>\n      <td>1635</td>\n      <td>1043130</td>\n    </tr>\n  </tbody>\n</table>\n<p>39170 rows × 11 columns</p>\n</div>"
     },
     "metadata": {},
     "execution_count": 152
    }
   ],
   "source": [
    "# Dependencies and Setup\n",
    "import pandas as pd\n",
    "\n",
    "# File to Load (Remember to Change These)\n",
    "school_data_load = \"Resources/schools_complete.csv\"\n",
    "student_data_load = \"Resources/students_complete.csv\"\n",
    "\n",
    "# Read School and Student Data File and store into Pandas DataFrames\n",
    "school_data_df = pd.read_csv(school_data_load)\n",
    "student_data_df = pd.read_csv(student_data_load)\n",
    "\n",
    "# Combine the data into a single dataset  \n",
    "school_data_all_df = pd.merge(student_data_df, school_data_df, how=\"left\", on=[\"school_name\", \"school_name\"])\n",
    "\n",
    "school_data_all_df"
   ]
  },
  {
   "cell_type": "code",
   "execution_count": 153,
   "metadata": {},
   "outputs": [
    {
     "output_type": "execute_result",
     "data": {
      "text/plain": [
       "Index(['Student ID', 'student_name', 'gender', 'grade', 'school_name',\n",
       "       'reading_score', 'math_score', 'School ID', 'type', 'size', 'budget'],\n",
       "      dtype='object')"
      ]
     },
     "metadata": {},
     "execution_count": 153
    }
   ],
   "source": [
    "school_data_all_df.columns"
   ]
  },
  {
   "cell_type": "code",
   "execution_count": 154,
   "metadata": {},
   "outputs": [
    {
     "output_type": "stream",
     "name": "stdout",
     "text": [
      "15\n"
     ]
    }
   ],
   "source": [
    "# BEGIN CALCULATIONS FOR DISTRICT SUMMARY\n",
    "\n",
    "# Calculate the total number of schools\n",
    "tot_schools = len(pd.unique(school_data_df['school_name']))\n",
    "print(tot_schools)"
   ]
  },
  {
   "cell_type": "code",
   "execution_count": 155,
   "metadata": {},
   "outputs": [
    {
     "output_type": "stream",
     "name": "stdout",
     "text": [
      "39170\n"
     ]
    }
   ],
   "source": [
    "# Caluculate the total number of students\n",
    "tot_students_dist = student_data_df['Student ID'].count()\n",
    "print(tot_students_dist)"
   ]
  },
  {
   "cell_type": "code",
   "execution_count": 156,
   "metadata": {},
   "outputs": [
    {
     "output_type": "execute_result",
     "data": {
      "text/plain": [
       "24649428"
      ]
     },
     "metadata": {},
     "execution_count": 156
    }
   ],
   "source": [
    "# Calculate the total budget\n",
    "tot_budget_dist = school_data_df['budget'].sum()\n",
    "tot_budget_dist"
   ]
  },
  {
   "cell_type": "code",
   "execution_count": 157,
   "metadata": {},
   "outputs": [
    {
     "output_type": "stream",
     "name": "stdout",
     "text": [
      "78.98537145774827\n"
     ]
    }
   ],
   "source": [
    "# Calculate the averge math score\n",
    "avg_math_dist = student_data_df['math_score'].mean()\n",
    "print(avg_math_dist)"
   ]
  },
  {
   "cell_type": "code",
   "execution_count": 158,
   "metadata": {},
   "outputs": [
    {
     "output_type": "stream",
     "name": "stdout",
     "text": [
      "81.87784018381414\n"
     ]
    }
   ],
   "source": [
    "# Caluclate the average reading score\n",
    "avg_read_dist = student_data_df['reading_score'].mean()\n",
    "print(avg_read_dist)"
   ]
  },
  {
   "cell_type": "code",
   "execution_count": 159,
   "metadata": {},
   "outputs": [
    {
     "output_type": "execute_result",
     "data": {
      "text/plain": [
       "74.9808526933878"
      ]
     },
     "metadata": {},
     "execution_count": 159
    }
   ],
   "source": [
    "# Calculate percent passed math\n",
    "# --> corrected threshold based on notes in assignment\n",
    "\n",
    "pass_math_dist = len(school_data_all_df.loc[school_data_all_df['math_score'] > 69]) / tot_students_dist * 100\n",
    "\n",
    "pass_math_dist"
   ]
  },
  {
   "cell_type": "code",
   "execution_count": 160,
   "metadata": {},
   "outputs": [
    {
     "output_type": "execute_result",
     "data": {
      "text/plain": [
       "85.80546336482001"
      ]
     },
     "metadata": {},
     "execution_count": 160
    }
   ],
   "source": [
    "# Calculate percent passed reading\n",
    "# --> corrected threshold based on notes in assignment\n",
    "\n",
    "pass_read_dist = len(school_data_all_df.loc[school_data_all_df['reading_score'] > 69]) / tot_students_dist * 100\n",
    "\n",
    "pass_read_dist"
   ]
  },
  {
   "cell_type": "code",
   "execution_count": 161,
   "metadata": {},
   "outputs": [
    {
     "output_type": "execute_result",
     "data": {
      "text/plain": [
       "65.17232575950983"
      ]
     },
     "metadata": {},
     "execution_count": 161
    }
   ],
   "source": [
    "# Calculate percent passing both math and reading\n",
    "# --> figured this out once I corrected threshold\n",
    "\n",
    "pass_mathread_dist = len(school_data_all_df.loc[(school_data_all_df['math_score'] > 69) & (\n",
    "    school_data_all_df['reading_score'] > 69)]) / tot_students_dist * 100\n",
    "\n",
    "pass_mathread_dist"
   ]
  },
  {
   "cell_type": "code",
   "execution_count": 162,
   "metadata": {},
   "outputs": [
    {
     "output_type": "stream",
     "name": "stdout",
     "text": [
      "DISTRICT SUMMARY\n"
     ]
    },
    {
     "output_type": "execute_result",
     "data": {
      "text/plain": [
       "   Total # of Schools Total # of Students Total Budget Average Math Score  \\\n",
       "0                  15              39,170  $24,649,428                 79   \n",
       "\n",
       "  Average Reading Score % Passing Math % Passing Reading % Overall Passing  \n",
       "0                    82          75.0%             85.8%             65.2%  "
      ],
      "text/html": "<div>\n<style scoped>\n    .dataframe tbody tr th:only-of-type {\n        vertical-align: middle;\n    }\n\n    .dataframe tbody tr th {\n        vertical-align: top;\n    }\n\n    .dataframe thead th {\n        text-align: right;\n    }\n</style>\n<table border=\"1\" class=\"dataframe\">\n  <thead>\n    <tr style=\"text-align: right;\">\n      <th></th>\n      <th>Total # of Schools</th>\n      <th>Total # of Students</th>\n      <th>Total Budget</th>\n      <th>Average Math Score</th>\n      <th>Average Reading Score</th>\n      <th>% Passing Math</th>\n      <th>% Passing Reading</th>\n      <th>% Overall Passing</th>\n    </tr>\n  </thead>\n  <tbody>\n    <tr>\n      <th>0</th>\n      <td>15</td>\n      <td>39,170</td>\n      <td>$24,649,428</td>\n      <td>79</td>\n      <td>82</td>\n      <td>75.0%</td>\n      <td>85.8%</td>\n      <td>65.2%</td>\n    </tr>\n  </tbody>\n</table>\n</div>"
     },
     "metadata": {},
     "execution_count": 162
    }
   ],
   "source": [
    "dist_summary_df = pd.DataFrame(\n",
    "    {\"Total # of Schools\": [tot_schools],\n",
    "     \"Total # of Students\": [tot_students_dist],\n",
    "     \"Total Budget\": [tot_budget_dist],\n",
    "     \"Average Math Score\": [avg_math_dist],\n",
    "     \"Average Reading Score\": [avg_read_dist],\n",
    "     \"% Passing Math\": [pass_math_dist],\n",
    "     \"% Passing Reading\": [pass_read_dist],\n",
    "     \"% Overall Passing\": [pass_mathread_dist]\n",
    "     }\n",
    ")\n",
    "\n",
    "# Format the District Summary Columns\n",
    "\n",
    "dist_summary_df[\"Total # of Students\"] = dist_summary_df[\"Total # of Students\"].map(\"{:,}\".format)\n",
    "dist_summary_df[\"Total Budget\"] = dist_summary_df[\"Total Budget\"].map(\"${:,}\".format)\n",
    "dist_summary_df[\"Average Math Score\"] = dist_summary_df[\"Average Math Score\"].map(\"{:.0f}\".format)\n",
    "dist_summary_df[\"Average Reading Score\"] = dist_summary_df[\"Average Reading Score\"].map(\"{:.0f}\".format)\n",
    "dist_summary_df[\"% Passing Math\"] = dist_summary_df[\"% Passing Math\"].map(\"{:.1f}%\".format)\n",
    "dist_summary_df[\"% Passing Reading\"] = dist_summary_df[\"% Passing Reading\"].map(\"{:.1f}%\".format)\n",
    "dist_summary_df[\"% Overall Passing\"] = dist_summary_df[\"% Overall Passing\"].map(\"{:.1f}%\".format)\n",
    "\n",
    "print(\"DISTRICT SUMMARY\")\n",
    "dist_summary_df"
   ]
  },
  {
   "cell_type": "code",
   "execution_count": 163,
   "metadata": {},
   "outputs": [
    {
     "output_type": "execute_result",
     "data": {
      "text/plain": [
       "school_name\n",
       "Huang High School        District\n",
       "Figueroa High School     District\n",
       "Shelton High School       Charter\n",
       "Hernandez High School    District\n",
       "Griffin High School       Charter\n",
       "Wilson High School        Charter\n",
       "Cabrera High School       Charter\n",
       "Bailey High School       District\n",
       "Holden High School        Charter\n",
       "Pena High School          Charter\n",
       "Wright High School        Charter\n",
       "Rodriguez High School    District\n",
       "Johnson High School      District\n",
       "Ford High School         District\n",
       "Thomas High School        Charter\n",
       "Name: type, dtype: object"
      ]
     },
     "metadata": {},
     "execution_count": 163
    }
   ],
   "source": [
    "# BEGIN CALCULATIONS FOR SCHOOL SUMMARY\n",
    "\n",
    "# Get school type\n",
    "school_type = school_data_df.set_index(['school_name'])['type']\n",
    "school_type"
   ]
  },
  {
   "cell_type": "code",
   "execution_count": 164,
   "metadata": {},
   "outputs": [
    {
     "output_type": "execute_result",
     "data": {
      "text/plain": [
       "Bailey High School       4976\n",
       "Johnson High School      4761\n",
       "Hernandez High School    4635\n",
       "Rodriguez High School    3999\n",
       "Figueroa High School     2949\n",
       "Huang High School        2917\n",
       "Ford High School         2739\n",
       "Wilson High School       2283\n",
       "Cabrera High School      1858\n",
       "Wright High School       1800\n",
       "Shelton High School      1761\n",
       "Thomas High School       1635\n",
       "Griffin High School      1468\n",
       "Pena High School          962\n",
       "Holden High School        427\n",
       "Name: school_name, dtype: int64"
      ]
     },
     "metadata": {},
     "execution_count": 164
    }
   ],
   "source": [
    "# Calculate total student count per school\n",
    "\n",
    "student_count = school_data_all_df['school_name'].value_counts()\n",
    "student_count"
   ]
  },
  {
   "cell_type": "code",
   "execution_count": 165,
   "metadata": {},
   "outputs": [
    {
     "output_type": "execute_result",
     "data": {
      "text/plain": [
       "school_name\n",
       "Bailey High School       3124928.0\n",
       "Cabrera High School      1081356.0\n",
       "Figueroa High School     1884411.0\n",
       "Ford High School         1763916.0\n",
       "Griffin High School       917500.0\n",
       "Hernandez High School    3022020.0\n",
       "Holden High School        248087.0\n",
       "Huang High School        1910635.0\n",
       "Johnson High School      3094650.0\n",
       "Pena High School          585858.0\n",
       "Rodriguez High School    2547363.0\n",
       "Shelton High School      1056600.0\n",
       "Thomas High School       1043130.0\n",
       "Wilson High School       1319574.0\n",
       "Wright High School       1049400.0\n",
       "Name: budget, dtype: float64"
      ]
     },
     "metadata": {},
     "execution_count": 165
    }
   ],
   "source": [
    "# Calculate total budget per school\n",
    "\n",
    "school_budget = school_data_all_df.groupby(['school_name']).mean()['budget']\n",
    "school_budget"
   ]
  },
  {
   "cell_type": "code",
   "execution_count": 166,
   "metadata": {},
   "outputs": [
    {
     "output_type": "execute_result",
     "data": {
      "text/plain": [
       "Bailey High School       628.0\n",
       "Cabrera High School      582.0\n",
       "Figueroa High School     639.0\n",
       "Ford High School         644.0\n",
       "Griffin High School      625.0\n",
       "Hernandez High School    652.0\n",
       "Holden High School       581.0\n",
       "Huang High School        655.0\n",
       "Johnson High School      650.0\n",
       "Pena High School         609.0\n",
       "Rodriguez High School    637.0\n",
       "Shelton High School      600.0\n",
       "Thomas High School       638.0\n",
       "Wilson High School       578.0\n",
       "Wright High School       583.0\n",
       "dtype: float64"
      ]
     },
     "metadata": {},
     "execution_count": 166
    }
   ],
   "source": [
    "# Calculate total budget per student per school\n",
    "\n",
    "student_budget = school_budget / student_count\n",
    "student_budget\n"
   ]
  },
  {
   "cell_type": "code",
   "execution_count": 167,
   "metadata": {},
   "outputs": [
    {
     "output_type": "execute_result",
     "data": {
      "text/plain": [
       "school_name\n",
       "Bailey High School       77.048432\n",
       "Cabrera High School      83.061895\n",
       "Figueroa High School     76.711767\n",
       "Ford High School         77.102592\n",
       "Griffin High School      83.351499\n",
       "Hernandez High School    77.289752\n",
       "Holden High School       83.803279\n",
       "Huang High School        76.629414\n",
       "Johnson High School      77.072464\n",
       "Pena High School         83.839917\n",
       "Rodriguez High School    76.842711\n",
       "Shelton High School      83.359455\n",
       "Thomas High School       83.418349\n",
       "Wilson High School       83.274201\n",
       "Wright High School       83.682222\n",
       "Name: math_score, dtype: float64"
      ]
     },
     "metadata": {},
     "execution_count": 167
    }
   ],
   "source": [
    "# Calculate average math score\n",
    "\n",
    "math_avg = school_data_all_df.groupby(['school_name']).mean()['math_score']\n",
    "math_avg"
   ]
  },
  {
   "cell_type": "code",
   "execution_count": 168,
   "metadata": {},
   "outputs": [
    {
     "output_type": "execute_result",
     "data": {
      "text/plain": [
       "school_name\n",
       "Bailey High School       81.033963\n",
       "Cabrera High School      83.975780\n",
       "Figueroa High School     81.158020\n",
       "Ford High School         80.746258\n",
       "Griffin High School      83.816757\n",
       "Hernandez High School    80.934412\n",
       "Holden High School       83.814988\n",
       "Huang High School        81.182722\n",
       "Johnson High School      80.966394\n",
       "Pena High School         84.044699\n",
       "Rodriguez High School    80.744686\n",
       "Shelton High School      83.725724\n",
       "Thomas High School       83.848930\n",
       "Wilson High School       83.989488\n",
       "Wright High School       83.955000\n",
       "Name: reading_score, dtype: float64"
      ]
     },
     "metadata": {},
     "execution_count": 168
    }
   ],
   "source": [
    "# Calculate average reading score\n",
    "\n",
    "read_avg = school_data_all_df.groupby(['school_name']).mean()['reading_score']\n",
    "read_avg"
   ]
  },
  {
   "cell_type": "code",
   "execution_count": 169,
   "metadata": {},
   "outputs": [
    {
     "output_type": "execute_result",
     "data": {
      "text/plain": [
       "Bailey High School       66.680064\n",
       "Cabrera High School      94.133477\n",
       "Figueroa High School     65.988471\n",
       "Ford High School         68.309602\n",
       "Griffin High School      93.392371\n",
       "Hernandez High School    66.752967\n",
       "Holden High School       92.505855\n",
       "Huang High School        65.683922\n",
       "Johnson High School      66.057551\n",
       "Pena High School         94.594595\n",
       "Rodriguez High School    66.366592\n",
       "Shelton High School      93.867121\n",
       "Thomas High School       93.272171\n",
       "Wilson High School       93.867718\n",
       "Wright High School       93.333333\n",
       "dtype: float64"
      ]
     },
     "metadata": {},
     "execution_count": 169
    }
   ],
   "source": [
    "# Calculate % of students passing math\n",
    "\n",
    "# get number of students passing math\n",
    "pass_math_sch = school_data_all_df[(school_data_all_df['math_score'] > 69)]\n",
    "\n",
    "# group students passing math by school\n",
    "pass_math_sch = pass_math_sch.groupby(['school_name']).count()['student_name']\n",
    "\n",
    "# get % of students passing math\n",
    "pass_math_sch = pass_math_sch / student_count * 100\n",
    "\n",
    "pass_math_sch"
   ]
  },
  {
   "cell_type": "code",
   "execution_count": 170,
   "metadata": {},
   "outputs": [
    {
     "output_type": "execute_result",
     "data": {
      "text/plain": [
       "Bailey High School       81.933280\n",
       "Cabrera High School      97.039828\n",
       "Figueroa High School     80.739234\n",
       "Ford High School         79.299014\n",
       "Griffin High School      97.138965\n",
       "Hernandez High School    80.862999\n",
       "Holden High School       96.252927\n",
       "Huang High School        81.316421\n",
       "Johnson High School      81.222432\n",
       "Pena High School         95.945946\n",
       "Rodriguez High School    80.220055\n",
       "Shelton High School      95.854628\n",
       "Thomas High School       97.308869\n",
       "Wilson High School       96.539641\n",
       "Wright High School       96.611111\n",
       "dtype: float64"
      ]
     },
     "metadata": {},
     "execution_count": 170
    }
   ],
   "source": [
    "# Calculate % of students passing reading\n",
    "\n",
    "# get number of students passing reading\n",
    "pass_read_sch = school_data_all_df[(school_data_all_df['reading_score'] > 69)]\n",
    "\n",
    "# group students passing math by school\n",
    "pass_read_sch = pass_read_sch.groupby(['school_name']).count()['student_name']\n",
    "\n",
    "# get % of students passing math\n",
    "pass_read_sch = pass_read_sch / student_count * 100\n",
    "\n",
    "pass_read_sch"
   ]
  },
  {
   "cell_type": "code",
   "execution_count": 171,
   "metadata": {},
   "outputs": [
    {
     "output_type": "execute_result",
     "data": {
      "text/plain": [
       "Bailey High School       54.642283\n",
       "Cabrera High School      91.334769\n",
       "Figueroa High School     53.204476\n",
       "Ford High School         54.289887\n",
       "Griffin High School      90.599455\n",
       "Hernandez High School    53.527508\n",
       "Holden High School       89.227166\n",
       "Huang High School        53.513884\n",
       "Johnson High School      53.539172\n",
       "Pena High School         90.540541\n",
       "Rodriguez High School    52.988247\n",
       "Shelton High School      89.892107\n",
       "Thomas High School       90.948012\n",
       "Wilson High School       90.582567\n",
       "Wright High School       90.333333\n",
       "dtype: float64"
      ]
     },
     "metadata": {},
     "execution_count": 171
    }
   ],
   "source": [
    "# Calculate % of students passing math and reading\n",
    "\n",
    "# get the count of students passing both\n",
    "pass_both = school_data_all_df[(school_data_all_df['math_score'] > 69) & (school_data_all_df['reading_score'] > 69)]\n",
    "\n",
    "# group the count of students by school\n",
    "pass_both = pass_both.groupby(['school_name']).count()['student_name']\n",
    "\n",
    "# get % of students passing both\n",
    "pass_both = pass_both / student_count * 100\n",
    "\n",
    "pass_both"
   ]
  },
  {
   "cell_type": "code",
   "execution_count": 173,
   "metadata": {},
   "outputs": [
    {
     "output_type": "stream",
     "name": "stdout",
     "text": [
      "SCHOOL SUMMARY\n"
     ]
    },
    {
     "output_type": "execute_result",
     "data": {
      "text/plain": [
       "                      School Type Total Students Total School Budget  \\\n",
       "Bailey High School       District          4,976       $3,124,928.00   \n",
       "Cabrera High School       Charter          1,858       $1,081,356.00   \n",
       "Figueroa High School     District          2,949       $1,884,411.00   \n",
       "Ford High School         District          2,739       $1,763,916.00   \n",
       "Griffin High School       Charter          1,468         $917,500.00   \n",
       "Hernandez High School    District          4,635       $3,022,020.00   \n",
       "Holden High School        Charter            427         $248,087.00   \n",
       "Huang High School        District          2,917       $1,910,635.00   \n",
       "Johnson High School      District          4,761       $3,094,650.00   \n",
       "Pena High School          Charter            962         $585,858.00   \n",
       "Rodriguez High School    District          3,999       $2,547,363.00   \n",
       "Shelton High School       Charter          1,761       $1,056,600.00   \n",
       "Thomas High School        Charter          1,635       $1,043,130.00   \n",
       "Wilson High School        Charter          2,283       $1,319,574.00   \n",
       "Wright High School        Charter          1,800       $1,049,400.00   \n",
       "\n",
       "                      Per Student Budget Average Math Score  \\\n",
       "Bailey High School               $628.00                 77   \n",
       "Cabrera High School              $582.00                 83   \n",
       "Figueroa High School             $639.00                 77   \n",
       "Ford High School                 $644.00                 77   \n",
       "Griffin High School              $625.00                 83   \n",
       "Hernandez High School            $652.00                 77   \n",
       "Holden High School               $581.00                 84   \n",
       "Huang High School                $655.00                 77   \n",
       "Johnson High School              $650.00                 77   \n",
       "Pena High School                 $609.00                 84   \n",
       "Rodriguez High School            $637.00                 77   \n",
       "Shelton High School              $600.00                 83   \n",
       "Thomas High School               $638.00                 83   \n",
       "Wilson High School               $578.00                 83   \n",
       "Wright High School               $583.00                 84   \n",
       "\n",
       "                      Average Reading Score % Passing Math % Passing Reading  \\\n",
       "Bailey High School                       81          66.7%             81.9%   \n",
       "Cabrera High School                      84          94.1%             97.0%   \n",
       "Figueroa High School                     81          66.0%             80.7%   \n",
       "Ford High School                         81          68.3%             79.3%   \n",
       "Griffin High School                      84          93.4%             97.1%   \n",
       "Hernandez High School                    81          66.8%             80.9%   \n",
       "Holden High School                       84          92.5%             96.3%   \n",
       "Huang High School                        81          65.7%             81.3%   \n",
       "Johnson High School                      81          66.1%             81.2%   \n",
       "Pena High School                         84          94.6%             95.9%   \n",
       "Rodriguez High School                    81          66.4%             80.2%   \n",
       "Shelton High School                      84          93.9%             95.9%   \n",
       "Thomas High School                       84          93.3%             97.3%   \n",
       "Wilson High School                       84          93.9%             96.5%   \n",
       "Wright High School                       84          93.3%             96.6%   \n",
       "\n",
       "                      % Overall Passing  \n",
       "Bailey High School                54.6%  \n",
       "Cabrera High School               91.3%  \n",
       "Figueroa High School              53.2%  \n",
       "Ford High School                  54.3%  \n",
       "Griffin High School               90.6%  \n",
       "Hernandez High School             53.5%  \n",
       "Holden High School                89.2%  \n",
       "Huang High School                 53.5%  \n",
       "Johnson High School               53.5%  \n",
       "Pena High School                  90.5%  \n",
       "Rodriguez High School             53.0%  \n",
       "Shelton High School               89.9%  \n",
       "Thomas High School                90.9%  \n",
       "Wilson High School                90.6%  \n",
       "Wright High School                90.3%  "
      ],
      "text/html": "<div>\n<style scoped>\n    .dataframe tbody tr th:only-of-type {\n        vertical-align: middle;\n    }\n\n    .dataframe tbody tr th {\n        vertical-align: top;\n    }\n\n    .dataframe thead th {\n        text-align: right;\n    }\n</style>\n<table border=\"1\" class=\"dataframe\">\n  <thead>\n    <tr style=\"text-align: right;\">\n      <th></th>\n      <th>School Type</th>\n      <th>Total Students</th>\n      <th>Total School Budget</th>\n      <th>Per Student Budget</th>\n      <th>Average Math Score</th>\n      <th>Average Reading Score</th>\n      <th>% Passing Math</th>\n      <th>% Passing Reading</th>\n      <th>% Overall Passing</th>\n    </tr>\n  </thead>\n  <tbody>\n    <tr>\n      <th>Bailey High School</th>\n      <td>District</td>\n      <td>4,976</td>\n      <td>$3,124,928.00</td>\n      <td>$628.00</td>\n      <td>77</td>\n      <td>81</td>\n      <td>66.7%</td>\n      <td>81.9%</td>\n      <td>54.6%</td>\n    </tr>\n    <tr>\n      <th>Cabrera High School</th>\n      <td>Charter</td>\n      <td>1,858</td>\n      <td>$1,081,356.00</td>\n      <td>$582.00</td>\n      <td>83</td>\n      <td>84</td>\n      <td>94.1%</td>\n      <td>97.0%</td>\n      <td>91.3%</td>\n    </tr>\n    <tr>\n      <th>Figueroa High School</th>\n      <td>District</td>\n      <td>2,949</td>\n      <td>$1,884,411.00</td>\n      <td>$639.00</td>\n      <td>77</td>\n      <td>81</td>\n      <td>66.0%</td>\n      <td>80.7%</td>\n      <td>53.2%</td>\n    </tr>\n    <tr>\n      <th>Ford High School</th>\n      <td>District</td>\n      <td>2,739</td>\n      <td>$1,763,916.00</td>\n      <td>$644.00</td>\n      <td>77</td>\n      <td>81</td>\n      <td>68.3%</td>\n      <td>79.3%</td>\n      <td>54.3%</td>\n    </tr>\n    <tr>\n      <th>Griffin High School</th>\n      <td>Charter</td>\n      <td>1,468</td>\n      <td>$917,500.00</td>\n      <td>$625.00</td>\n      <td>83</td>\n      <td>84</td>\n      <td>93.4%</td>\n      <td>97.1%</td>\n      <td>90.6%</td>\n    </tr>\n    <tr>\n      <th>Hernandez High School</th>\n      <td>District</td>\n      <td>4,635</td>\n      <td>$3,022,020.00</td>\n      <td>$652.00</td>\n      <td>77</td>\n      <td>81</td>\n      <td>66.8%</td>\n      <td>80.9%</td>\n      <td>53.5%</td>\n    </tr>\n    <tr>\n      <th>Holden High School</th>\n      <td>Charter</td>\n      <td>427</td>\n      <td>$248,087.00</td>\n      <td>$581.00</td>\n      <td>84</td>\n      <td>84</td>\n      <td>92.5%</td>\n      <td>96.3%</td>\n      <td>89.2%</td>\n    </tr>\n    <tr>\n      <th>Huang High School</th>\n      <td>District</td>\n      <td>2,917</td>\n      <td>$1,910,635.00</td>\n      <td>$655.00</td>\n      <td>77</td>\n      <td>81</td>\n      <td>65.7%</td>\n      <td>81.3%</td>\n      <td>53.5%</td>\n    </tr>\n    <tr>\n      <th>Johnson High School</th>\n      <td>District</td>\n      <td>4,761</td>\n      <td>$3,094,650.00</td>\n      <td>$650.00</td>\n      <td>77</td>\n      <td>81</td>\n      <td>66.1%</td>\n      <td>81.2%</td>\n      <td>53.5%</td>\n    </tr>\n    <tr>\n      <th>Pena High School</th>\n      <td>Charter</td>\n      <td>962</td>\n      <td>$585,858.00</td>\n      <td>$609.00</td>\n      <td>84</td>\n      <td>84</td>\n      <td>94.6%</td>\n      <td>95.9%</td>\n      <td>90.5%</td>\n    </tr>\n    <tr>\n      <th>Rodriguez High School</th>\n      <td>District</td>\n      <td>3,999</td>\n      <td>$2,547,363.00</td>\n      <td>$637.00</td>\n      <td>77</td>\n      <td>81</td>\n      <td>66.4%</td>\n      <td>80.2%</td>\n      <td>53.0%</td>\n    </tr>\n    <tr>\n      <th>Shelton High School</th>\n      <td>Charter</td>\n      <td>1,761</td>\n      <td>$1,056,600.00</td>\n      <td>$600.00</td>\n      <td>83</td>\n      <td>84</td>\n      <td>93.9%</td>\n      <td>95.9%</td>\n      <td>89.9%</td>\n    </tr>\n    <tr>\n      <th>Thomas High School</th>\n      <td>Charter</td>\n      <td>1,635</td>\n      <td>$1,043,130.00</td>\n      <td>$638.00</td>\n      <td>83</td>\n      <td>84</td>\n      <td>93.3%</td>\n      <td>97.3%</td>\n      <td>90.9%</td>\n    </tr>\n    <tr>\n      <th>Wilson High School</th>\n      <td>Charter</td>\n      <td>2,283</td>\n      <td>$1,319,574.00</td>\n      <td>$578.00</td>\n      <td>83</td>\n      <td>84</td>\n      <td>93.9%</td>\n      <td>96.5%</td>\n      <td>90.6%</td>\n    </tr>\n    <tr>\n      <th>Wright High School</th>\n      <td>Charter</td>\n      <td>1,800</td>\n      <td>$1,049,400.00</td>\n      <td>$583.00</td>\n      <td>84</td>\n      <td>84</td>\n      <td>93.3%</td>\n      <td>96.6%</td>\n      <td>90.3%</td>\n    </tr>\n  </tbody>\n</table>\n</div>"
     },
     "metadata": {},
     "execution_count": 173
    }
   ],
   "source": [
    "# Create School Summary DataFrame\n",
    "\n",
    "school_summary_df = pd.DataFrame(\n",
    "    {\"School Type\": school_type,\n",
    "     \"Total Students\": student_count,\n",
    "     \"Total School Budget\": school_budget,\n",
    "     \"Per Student Budget\": student_budget,\n",
    "     \"Average Math Score\": math_avg,\n",
    "     \"Average Reading Score\": read_avg,\n",
    "     \"% Passing Math\": pass_math_sch,\n",
    "     \"% Passing Reading\": pass_read_sch,\n",
    "     \"% Overall Passing\": pass_both\n",
    "     }\n",
    ")\n",
    "\n",
    "# Format the School Summary Columns\n",
    "\n",
    "school_summary_df[\"Total Students\"] = school_summary_df[\"Total Students\"].map(\"{:,}\".format)\n",
    "school_summary_df[\"Total School Budget\"] = school_summary_df[\"Total School Budget\"].map(\"${:,.2f}\".format)\n",
    "school_summary_df[\"Per Student Budget\"] = school_summary_df[\"Per Student Budget\"].map(\"${:.2f}\".format)\n",
    "school_summary_df[\"Average Math Score\"] = school_summary_df[\"Average Math Score\"].map(\"{:.0f}\".format)\n",
    "school_summary_df[\"Average Reading Score\"] = school_summary_df[\"Average Reading Score\"].map(\"{:.0f}\".format)\n",
    "school_summary_df[\"% Passing Math\"] = school_summary_df[\"% Passing Math\"].map(\"{:.1f}%\".format)\n",
    "school_summary_df[\"% Passing Reading\"] = school_summary_df[\"% Passing Reading\"].map(\"{:.1f}%\".format)\n",
    "school_summary_df[\"% Overall Passing\"] = school_summary_df[\"% Overall Passing\"].map(\"{:.1f}%\".format)\n",
    "\n",
    "print(\"SCHOOL SUMMARY\")\n",
    "school_summary_df"
   ]
  },
  {
   "cell_type": "code",
   "execution_count": null,
   "metadata": {},
   "outputs": [],
   "source": []
  }
 ],
 "metadata": {
  "anaconda-cloud": {},
  "kernel_info": {
   "name": "python3"
  },
  "kernelspec": {
   "name": "python385jvsc74a57bd0c3371879507128a1f32fcefe84596516d7fbdc8c5d1ce95910e49c97f88263a5",
   "display_name": "Python 3.8.5 64-bit ('base': conda)"
  },
  "language_info": {
   "codemirror_mode": {
    "name": "ipython",
    "version": 3
   },
   "file_extension": ".py",
   "mimetype": "text/x-python",
   "name": "python",
   "nbconvert_exporter": "python",
   "pygments_lexer": "ipython3",
   "version": "3.8.5-final"
  },
  "latex_envs": {
   "LaTeX_envs_menu_present": true,
   "autoclose": false,
   "autocomplete": true,
   "bibliofile": "biblio.bib",
   "cite_by": "apalike",
   "current_citInitial": 1,
   "eqLabelWithNumbers": true,
   "eqNumInitial": 1,
   "hotkeys": {
    "equation": "Ctrl-E",
    "itemize": "Ctrl-I"
   },
   "labels_anchors": false,
   "latex_user_defs": false,
   "report_style_numbering": false,
   "user_envs_cfg": false
  },
  "nteract": {
   "version": "0.8.4"
  }
 },
 "nbformat": 4,
 "nbformat_minor": 1
}