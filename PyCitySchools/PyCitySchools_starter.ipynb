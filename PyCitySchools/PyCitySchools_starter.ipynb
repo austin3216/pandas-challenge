{
 "cells": [
  {
   "cell_type": "code",
   "execution_count": null,
   "metadata": {},
   "outputs": [],
   "source": [
    "# Dependencies and Setup\n",
    "import pandas as pd\n",
    "\n",
    "# File to Load (Remember to Change These)\n",
    "school_data_load = \"Resources/schools_complete.csv\"\n",
    "student_data_load = \"Resources/students_complete.csv\"\n",
    "\n",
    "# Read School and Student Data File and store into Pandas DataFrames\n",
    "school_data_df = pd.read_csv(school_data_load)\n",
    "student_data_df = pd.read_csv(student_data_load)\n",
    "\n",
    "# Combine the data into a single dataset  \n",
    "school_data_all_df = pd.merge(student_data_df, school_data_df, how=\"left\", on=[\"school_name\", \"school_name\"])\n",
    "\n",
    "school_data_all_df"
   ]
  },
  {
   "cell_type": "code",
   "execution_count": null,
   "metadata": {},
   "outputs": [],
   "source": [
    "school_data_all_df.columns"
   ]
  },
  {
   "cell_type": "code",
   "execution_count": null,
   "metadata": {},
   "outputs": [],
   "source": [
    "# BEGIN CALCULATIONS FOR DISTRICT SUMMARY\n",
    "\n",
    "# Calculate the total number of schools\n",
    "tot_schools = len(pd.unique(school_data_df['school_name']))\n",
    "print(tot_schools)"
   ]
  },
  {
   "cell_type": "code",
   "execution_count": null,
   "metadata": {},
   "outputs": [],
   "source": [
    "# Caluculate the total number of students\n",
    "tot_students_dist = student_data_df['Student ID'].count()\n",
    "print(tot_students_dist)"
   ]
  },
  {
   "cell_type": "code",
   "execution_count": null,
   "metadata": {},
   "outputs": [],
   "source": [
    "# Calculate the total budget\n",
    "tot_budget_dist = school_data_df['budget'].sum()\n",
    "tot_budget_dist"
   ]
  },
  {
   "cell_type": "code",
   "execution_count": null,
   "metadata": {},
   "outputs": [],
   "source": [
    "# Calculate the averge math score\n",
    "avg_math_dist = student_data_df['math_score'].mean()\n",
    "print(avg_math_dist)"
   ]
  },
  {
   "cell_type": "code",
   "execution_count": null,
   "metadata": {},
   "outputs": [],
   "source": [
    "# Caluclate the average reading score\n",
    "avg_read_dist = student_data_df['reading_score'].mean()\n",
    "print(avg_read_dist)"
   ]
  },
  {
   "cell_type": "code",
   "execution_count": null,
   "metadata": {},
   "outputs": [],
   "source": [
    "# Calculate percent passed math\n",
    "# --> corrected threshold based on notes in assignment\n",
    "\n",
    "pass_math_dist = len(school_data_all_df.loc[school_data_all_df['math_score'] > 69]) / tot_students_dist * 100\n",
    "\n",
    "pass_math_dist"
   ]
  },
  {
   "cell_type": "code",
   "execution_count": null,
   "metadata": {},
   "outputs": [],
   "source": [
    "# Calculate percent passed reading\n",
    "# --> corrected threshold based on notes in assignment\n",
    "\n",
    "pass_read_dist = len(school_data_all_df.loc[school_data_all_df['reading_score'] > 69]) / tot_students_dist * 100\n",
    "\n",
    "pass_read_dist"
   ]
  },
  {
   "cell_type": "code",
   "execution_count": null,
   "metadata": {},
   "outputs": [],
   "source": [
    "# Calculate percent passing both math and reading\n",
    "# --> figured this out once I corrected threshold\n",
    "\n",
    "pass_mathread_dist = len(school_data_all_df.loc[(school_data_all_df['math_score'] > 69) & (\n",
    "    school_data_all_df['reading_score'] > 69)]) / tot_students_dist * 100\n",
    "\n",
    "pass_mathread_dist"
   ]
  },
  {
   "cell_type": "code",
   "execution_count": null,
   "metadata": {},
   "outputs": [],
   "source": [
    "dist_summary_df = pd.DataFrame(\n",
    "    {\"Total # of Schools\": [tot_schools],\n",
    "     \"Total # of Students\": [tot_students_dist],\n",
    "     \"Total Budget\": [tot_budget_dist],\n",
    "     \"Average Math Score\": [avg_math_dist],\n",
    "     \"Average Reading Score\": [avg_read_dist],\n",
    "     \"% Passing Math\": [pass_math_dist],\n",
    "     \"% Passing Reading\": [pass_read_dist],\n",
    "     \"% Overall Passing\": [pass_mathread_dist]\n",
    "     }\n",
    ")\n",
    "\n",
    "# Format the District Summary Columns\n",
    "\n",
    "dist_summary_df[\"Total # of Students\"] = dist_summary_df[\"Total # of Students\"].map(\"{:,}\".format)\n",
    "dist_summary_df[\"Total Budget\"] = dist_summary_df[\"Total Budget\"].map(\"${:,}\".format)\n",
    "dist_summary_df[\"Average Math Score\"] = dist_summary_df[\"Average Math Score\"].map(\"{:.0f}\".format)\n",
    "dist_summary_df[\"Average Reading Score\"] = dist_summary_df[\"Average Reading Score\"].map(\"{:.0f}\".format)\n",
    "dist_summary_df[\"% Passing Math\"] = dist_summary_df[\"% Passing Math\"].map(\"{:.1f}%\".format)\n",
    "dist_summary_df[\"% Passing Reading\"] = dist_summary_df[\"% Passing Reading\"].map(\"{:.1f}%\".format)\n",
    "dist_summary_df[\"% Overall Passing\"] = dist_summary_df[\"% Overall Passing\"].map(\"{:.1f}%\".format)\n",
    "\n",
    "print(\"DISTRICT SUMMARY\")\n",
    "dist_summary_df"
   ]
  },
  {
   "cell_type": "code",
   "execution_count": null,
   "metadata": {},
   "outputs": [],
   "source": [
    "# BEGIN CALCULATIONS FOR SCHOOL SUMMARY\n",
    "\n",
    "# Get school type\n",
    "school_type = school_data_df.set_index(['school_name'])['type']\n",
    "school_type"
   ]
  },
  {
   "cell_type": "code",
   "execution_count": null,
   "metadata": {},
   "outputs": [],
   "source": [
    "# Calculate total student count per school\n",
    "\n",
    "student_count = school_data_all_df['school_name'].value_counts()\n",
    "student_count"
   ]
  },
  {
   "cell_type": "code",
   "execution_count": null,
   "metadata": {},
   "outputs": [],
   "source": [
    "# Calculate total budget per school\n",
    "\n",
    "school_budget = school_data_all_df.groupby(['school_name']).mean()['budget']\n",
    "school_budget"
   ]
  },
  {
   "cell_type": "code",
   "execution_count": null,
   "metadata": {},
   "outputs": [],
   "source": [
    "# Calculate total budget per student per school\n",
    "\n",
    "student_budget = school_budget / student_count\n",
    "student_budget\n"
   ]
  },
  {
   "cell_type": "code",
   "execution_count": null,
   "metadata": {},
   "outputs": [],
   "source": [
    "# Calculate average math score\n",
    "\n",
    "math_avg = school_data_all_df.groupby(['school_name']).mean()['math_score']\n",
    "math_avg"
   ]
  },
  {
   "cell_type": "code",
   "execution_count": null,
   "metadata": {},
   "outputs": [],
   "source": [
    "# Calculate average reading score\n",
    "\n",
    "read_avg = school_data_all_df.groupby(['school_name']).mean()['reading_score']\n",
    "read_avg"
   ]
  },
  {
   "cell_type": "code",
   "execution_count": null,
   "metadata": {},
   "outputs": [],
   "source": [
    "# Calculate % of students passing math\n",
    "\n",
    "# get number of students passing math\n",
    "pass_math_sch = school_data_all_df[(school_data_all_df['math_score'] > 69)]\n",
    "\n",
    "# group students passing math by school\n",
    "pass_math_sch = pass_math_sch.groupby(['school_name']).count()['student_name']\n",
    "\n",
    "# get % of students passing math\n",
    "pass_math_sch = pass_math_sch / student_count * 100\n",
    "\n",
    "pass_math_sch"
   ]
  },
  {
   "cell_type": "code",
   "execution_count": null,
   "metadata": {},
   "outputs": [],
   "source": [
    "# Calculate % of students passing reading\n",
    "\n",
    "# get number of students passing reading\n",
    "pass_read_sch = school_data_all_df[(school_data_all_df['reading_score'] > 69)]\n",
    "\n",
    "# group students passing math by school\n",
    "pass_read_sch = pass_read_sch.groupby(['school_name']).count()['student_name']\n",
    "\n",
    "# get % of students passing math\n",
    "pass_read_sch = pass_read_sch / student_count * 100\n",
    "\n",
    "pass_read_sch"
   ]
  },
  {
   "cell_type": "code",
   "execution_count": null,
   "metadata": {},
   "outputs": [],
   "source": [
    "# Calculate % of students passing math and reading\n",
    "\n",
    "# get the count of students passing both\n",
    "pass_both = school_data_all_df[(school_data_all_df['math_score'] > 69) & (school_data_all_df['reading_score'] > 69)]\n",
    "\n",
    "# group the count of students by school\n",
    "pass_both = pass_both.groupby(['school_name']).count()['student_name']\n",
    "\n",
    "# get % of students passing both\n",
    "pass_both = pass_both / student_count * 100\n",
    "\n",
    "pass_both"
   ]
  },
  {
   "cell_type": "code",
   "execution_count": 45,
   "metadata": {},
   "outputs": [
    {
     "output_type": "stream",
     "name": "stdout",
     "text": [
      "SCHOOL SUMMARY\n"
     ]
    },
    {
     "output_type": "execute_result",
     "data": {
      "text/plain": [
       "                      School Type Total Students Total School Budget  \\\n",
       "Bailey High School       District          4,976        $3,124,928.0   \n",
       "Cabrera High School       Charter          1,858        $1,081,356.0   \n",
       "Figueroa High School     District          2,949        $1,884,411.0   \n",
       "Ford High School         District          2,739        $1,763,916.0   \n",
       "Griffin High School       Charter          1,468          $917,500.0   \n",
       "Hernandez High School    District          4,635        $3,022,020.0   \n",
       "Holden High School        Charter            427          $248,087.0   \n",
       "Huang High School        District          2,917        $1,910,635.0   \n",
       "Johnson High School      District          4,761        $3,094,650.0   \n",
       "Pena High School          Charter            962          $585,858.0   \n",
       "Rodriguez High School    District          3,999        $2,547,363.0   \n",
       "Shelton High School       Charter          1,761        $1,056,600.0   \n",
       "Thomas High School        Charter          1,635        $1,043,130.0   \n",
       "Wilson High School        Charter          2,283        $1,319,574.0   \n",
       "Wright High School        Charter          1,800        $1,049,400.0   \n",
       "\n",
       "                      Per Student Budget Average Math Score  \\\n",
       "Bailey High School               $628.00                 77   \n",
       "Cabrera High School              $582.00                 83   \n",
       "Figueroa High School             $639.00                 77   \n",
       "Ford High School                 $644.00                 77   \n",
       "Griffin High School              $625.00                 83   \n",
       "Hernandez High School            $652.00                 77   \n",
       "Holden High School               $581.00                 84   \n",
       "Huang High School                $655.00                 77   \n",
       "Johnson High School              $650.00                 77   \n",
       "Pena High School                 $609.00                 84   \n",
       "Rodriguez High School            $637.00                 77   \n",
       "Shelton High School              $600.00                 83   \n",
       "Thomas High School               $638.00                 83   \n",
       "Wilson High School               $578.00                 83   \n",
       "Wright High School               $583.00                 84   \n",
       "\n",
       "                      Average Reading Score % Passing Math % Passing Reading  \\\n",
       "Bailey High School                       81          66.7%             81.9%   \n",
       "Cabrera High School                      84          94.1%             97.0%   \n",
       "Figueroa High School                     81          66.0%             80.7%   \n",
       "Ford High School                         81          68.3%             79.3%   \n",
       "Griffin High School                      84          93.4%             97.1%   \n",
       "Hernandez High School                    81          66.8%             80.9%   \n",
       "Holden High School                       84          92.5%             96.3%   \n",
       "Huang High School                        81          65.7%             81.3%   \n",
       "Johnson High School                      81          66.1%             81.2%   \n",
       "Pena High School                         84          94.6%             95.9%   \n",
       "Rodriguez High School                    81          66.4%             80.2%   \n",
       "Shelton High School                      84          93.9%             95.9%   \n",
       "Thomas High School                       84          93.3%             97.3%   \n",
       "Wilson High School                       84          93.9%             96.5%   \n",
       "Wright High School                       84          93.3%             96.6%   \n",
       "\n",
       "                      % Overall Passing  \n",
       "Bailey High School                54.6%  \n",
       "Cabrera High School               91.3%  \n",
       "Figueroa High School              53.2%  \n",
       "Ford High School                  54.3%  \n",
       "Griffin High School               90.6%  \n",
       "Hernandez High School             53.5%  \n",
       "Holden High School                89.2%  \n",
       "Huang High School                 53.5%  \n",
       "Johnson High School               53.5%  \n",
       "Pena High School                  90.5%  \n",
       "Rodriguez High School             53.0%  \n",
       "Shelton High School               89.9%  \n",
       "Thomas High School                90.9%  \n",
       "Wilson High School                90.6%  \n",
       "Wright High School                90.3%  "
      ],
      "text/html": "<div>\n<style scoped>\n    .dataframe tbody tr th:only-of-type {\n        vertical-align: middle;\n    }\n\n    .dataframe tbody tr th {\n        vertical-align: top;\n    }\n\n    .dataframe thead th {\n        text-align: right;\n    }\n</style>\n<table border=\"1\" class=\"dataframe\">\n  <thead>\n    <tr style=\"text-align: right;\">\n      <th></th>\n      <th>School Type</th>\n      <th>Total Students</th>\n      <th>Total School Budget</th>\n      <th>Per Student Budget</th>\n      <th>Average Math Score</th>\n      <th>Average Reading Score</th>\n      <th>% Passing Math</th>\n      <th>% Passing Reading</th>\n      <th>% Overall Passing</th>\n    </tr>\n  </thead>\n  <tbody>\n    <tr>\n      <th>Bailey High School</th>\n      <td>District</td>\n      <td>4,976</td>\n      <td>$3,124,928.0</td>\n      <td>$628.00</td>\n      <td>77</td>\n      <td>81</td>\n      <td>66.7%</td>\n      <td>81.9%</td>\n      <td>54.6%</td>\n    </tr>\n    <tr>\n      <th>Cabrera High School</th>\n      <td>Charter</td>\n      <td>1,858</td>\n      <td>$1,081,356.0</td>\n      <td>$582.00</td>\n      <td>83</td>\n      <td>84</td>\n      <td>94.1%</td>\n      <td>97.0%</td>\n      <td>91.3%</td>\n    </tr>\n    <tr>\n      <th>Figueroa High School</th>\n      <td>District</td>\n      <td>2,949</td>\n      <td>$1,884,411.0</td>\n      <td>$639.00</td>\n      <td>77</td>\n      <td>81</td>\n      <td>66.0%</td>\n      <td>80.7%</td>\n      <td>53.2%</td>\n    </tr>\n    <tr>\n      <th>Ford High School</th>\n      <td>District</td>\n      <td>2,739</td>\n      <td>$1,763,916.0</td>\n      <td>$644.00</td>\n      <td>77</td>\n      <td>81</td>\n      <td>68.3%</td>\n      <td>79.3%</td>\n      <td>54.3%</td>\n    </tr>\n    <tr>\n      <th>Griffin High School</th>\n      <td>Charter</td>\n      <td>1,468</td>\n      <td>$917,500.0</td>\n      <td>$625.00</td>\n      <td>83</td>\n      <td>84</td>\n      <td>93.4%</td>\n      <td>97.1%</td>\n      <td>90.6%</td>\n    </tr>\n    <tr>\n      <th>Hernandez High School</th>\n      <td>District</td>\n      <td>4,635</td>\n      <td>$3,022,020.0</td>\n      <td>$652.00</td>\n      <td>77</td>\n      <td>81</td>\n      <td>66.8%</td>\n      <td>80.9%</td>\n      <td>53.5%</td>\n    </tr>\n    <tr>\n      <th>Holden High School</th>\n      <td>Charter</td>\n      <td>427</td>\n      <td>$248,087.0</td>\n      <td>$581.00</td>\n      <td>84</td>\n      <td>84</td>\n      <td>92.5%</td>\n      <td>96.3%</td>\n      <td>89.2%</td>\n    </tr>\n    <tr>\n      <th>Huang High School</th>\n      <td>District</td>\n      <td>2,917</td>\n      <td>$1,910,635.0</td>\n      <td>$655.00</td>\n      <td>77</td>\n      <td>81</td>\n      <td>65.7%</td>\n      <td>81.3%</td>\n      <td>53.5%</td>\n    </tr>\n    <tr>\n      <th>Johnson High School</th>\n      <td>District</td>\n      <td>4,761</td>\n      <td>$3,094,650.0</td>\n      <td>$650.00</td>\n      <td>77</td>\n      <td>81</td>\n      <td>66.1%</td>\n      <td>81.2%</td>\n      <td>53.5%</td>\n    </tr>\n    <tr>\n      <th>Pena High School</th>\n      <td>Charter</td>\n      <td>962</td>\n      <td>$585,858.0</td>\n      <td>$609.00</td>\n      <td>84</td>\n      <td>84</td>\n      <td>94.6%</td>\n      <td>95.9%</td>\n      <td>90.5%</td>\n    </tr>\n    <tr>\n      <th>Rodriguez High School</th>\n      <td>District</td>\n      <td>3,999</td>\n      <td>$2,547,363.0</td>\n      <td>$637.00</td>\n      <td>77</td>\n      <td>81</td>\n      <td>66.4%</td>\n      <td>80.2%</td>\n      <td>53.0%</td>\n    </tr>\n    <tr>\n      <th>Shelton High School</th>\n      <td>Charter</td>\n      <td>1,761</td>\n      <td>$1,056,600.0</td>\n      <td>$600.00</td>\n      <td>83</td>\n      <td>84</td>\n      <td>93.9%</td>\n      <td>95.9%</td>\n      <td>89.9%</td>\n    </tr>\n    <tr>\n      <th>Thomas High School</th>\n      <td>Charter</td>\n      <td>1,635</td>\n      <td>$1,043,130.0</td>\n      <td>$638.00</td>\n      <td>83</td>\n      <td>84</td>\n      <td>93.3%</td>\n      <td>97.3%</td>\n      <td>90.9%</td>\n    </tr>\n    <tr>\n      <th>Wilson High School</th>\n      <td>Charter</td>\n      <td>2,283</td>\n      <td>$1,319,574.0</td>\n      <td>$578.00</td>\n      <td>83</td>\n      <td>84</td>\n      <td>93.9%</td>\n      <td>96.5%</td>\n      <td>90.6%</td>\n    </tr>\n    <tr>\n      <th>Wright High School</th>\n      <td>Charter</td>\n      <td>1,800</td>\n      <td>$1,049,400.0</td>\n      <td>$583.00</td>\n      <td>84</td>\n      <td>84</td>\n      <td>93.3%</td>\n      <td>96.6%</td>\n      <td>90.3%</td>\n    </tr>\n  </tbody>\n</table>\n</div>"
     },
     "metadata": {},
     "execution_count": 45
    }
   ],
   "source": [
    "# Create School Summary DataFrame\n",
    "\n",
    "school_summary_df = pd.DataFrame(\n",
    "    {\"School Type\": school_type,\n",
    "     \"Total Students\": student_count,\n",
    "     \"Total School Budget\": school_budget,\n",
    "     \"Per Student Budget\": student_budget,\n",
    "     \"Average Math Score\": math_avg,\n",
    "     \"Average Reading Score\": read_avg,\n",
    "     \"% Passing Math\": pass_math_sch,\n",
    "     \"% Passing Reading\": pass_read_sch,\n",
    "     \"% Overall Passing\": pass_both\n",
    "     }\n",
    ")\n",
    "\n",
    "# Format the School Summary Columns\n",
    "\n",
    "school_summary_df[\"Total Students\"] = school_summary_df[\"Total Students\"].map(\"{:,}\".format)\n",
    "school_summary_df[\"Total School Budget\"] = school_summary_df[\"Total School Budget\"].map(\"${:,}\".format)\n",
    "school_summary_df[\"Per Student Budget\"] = school_summary_df[\"Per Student Budget\"].map(\"${:.2f}\".format)\n",
    "school_summary_df[\"Average Math Score\"] = school_summary_df[\"Average Math Score\"].map(\"{:.0f}\".format)\n",
    "school_summary_df[\"Average Reading Score\"] = school_summary_df[\"Average Reading Score\"].map(\"{:.0f}\".format)\n",
    "school_summary_df[\"% Passing Math\"] = school_summary_df[\"% Passing Math\"].map(\"{:.1f}%\".format)\n",
    "school_summary_df[\"% Passing Reading\"] = school_summary_df[\"% Passing Reading\"].map(\"{:.1f}%\".format)\n",
    "school_summary_df[\"% Overall Passing\"] = school_summary_df[\"% Overall Passing\"].map(\"{:.1f}%\".format)\n",
    "\n",
    "print(\"SCHOOL SUMMARY\")\n",
    "school_summary_df"
   ]
  },
  {
   "cell_type": "code",
   "execution_count": null,
   "metadata": {},
   "outputs": [],
   "source": []
  }
 ],
 "metadata": {
  "anaconda-cloud": {},
  "kernel_info": {
   "name": "python3"
  },
  "kernelspec": {
   "name": "python385jvsc74a57bd0c3371879507128a1f32fcefe84596516d7fbdc8c5d1ce95910e49c97f88263a5",
   "display_name": "Python 3.8.5 64-bit ('base': conda)"
  },
  "language_info": {
   "codemirror_mode": {
    "name": "ipython",
    "version": 3
   },
   "file_extension": ".py",
   "mimetype": "text/x-python",
   "name": "python",
   "nbconvert_exporter": "python",
   "pygments_lexer": "ipython3",
   "version": "3.8.5-final"
  },
  "latex_envs": {
   "LaTeX_envs_menu_present": true,
   "autoclose": false,
   "autocomplete": true,
   "bibliofile": "biblio.bib",
   "cite_by": "apalike",
   "current_citInitial": 1,
   "eqLabelWithNumbers": true,
   "eqNumInitial": 1,
   "hotkeys": {
    "equation": "Ctrl-E",
    "itemize": "Ctrl-I"
   },
   "labels_anchors": false,
   "latex_user_defs": false,
   "report_style_numbering": false,
   "user_envs_cfg": false
  },
  "nteract": {
   "version": "0.8.4"
  }
 },
 "nbformat": 4,
 "nbformat_minor": 1
}